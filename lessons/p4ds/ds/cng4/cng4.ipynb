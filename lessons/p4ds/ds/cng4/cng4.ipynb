{
 "cells": [
  {
   "cell_type": "markdown",
   "metadata": {},
   "source": [
    "# Programming w/🐍 for Data Science \n",
    "<img src=\"https://raw.githubusercontent.com/habermanUIUC/CodeStoryLessons/main/lessons/p4ds/ds/cng4/html/section00.png\" align=\"left\"/>"
   ]
  },
  {
   "cell_type": "markdown",
   "metadata": {},
   "source": [
    "<a id=\"install\"></a>\n",
    "## Notebook Preparation for Lesson 1•2•3\n",
    "Each lesson will start with a similar template (given in the course schedule):  \n",
    "1. **save** to your google drive (copy to drive)<br/><img src=\"https://raw.githubusercontent.com/habermanUIUC/CodeStoryLessons/main/assets/images/colab/copy-to-drive.png\"/>\n",
    "2. **update** the NET_ID to be your netID (no need to include @illinois.edu)\n",
    "3. **run** the next cell to install the IDE. <img src=\"https://raw.githubusercontent.com/habermanUIUC/CodeStoryLessons/main/assets/images/colab/play-button.png\"/>"
   ]
  },
  {
   "cell_type": "code",
   "execution_count": 0,
   "metadata": {},
   "outputs": [],
   "source": [
    "LESSON_ID = 'p4ds:ds:cng4'   # keep this as is\n",
    "NET_ID    = 'CHANGE_ME' # CHANGE_ME to your netID (keep the quotes)\n",
    "\n",
    "def install_ide(net_id, lesson_id):\n",
    "  import sys\n",
    "  if 'codestories' not in sys.modules:\n",
    "      print('installing modules')\n",
    "      !pip install git+https://mehaberman@bitbucket.org/mehaberman/codestories.git --upgrade &> install.log\n",
    "  \n",
    "  from codestories.cs.CodeStories import CodeStory\n",
    "  return CodeStory(net_id, lesson_id)\n",
    "\n",
    "ide = install_ide(NET_ID, LESSON_ID)\n",
    "print(ide.welcome())"
   ]
  },
  {
   "cell_type": "markdown",
   "metadata": {},
   "source": [
    "# Lesson Cliff Note Generator (part 4)\n",
    "(hit ▶ to read the first part of the lesson️)"
   ]
  },
  {
   "cell_type": "code",
   "execution_count": 0,
   "metadata": {},
   "outputs": [],
   "source": [
    "# run to read the next section\n",
    "ide.reader.view_section(1)"
   ]
  },
  {
   "cell_type": "code",
   "execution_count": 0,
   "metadata": {},
   "outputs": [],
   "source": [
    "import matplotlib as mpl\n",
    "import matplotlib.pyplot as plt\n",
    "\n",
    "# some data to use\n",
    "data = {'you': 2, \"don't\": 1, 'know': 1, 'about': 2, 'me': 1, 'without': 2, 'have': 1, 'read': 1, 'a': 2, 'book': 4, 'by': 2, 'the': 6, 'name': 1, 'of': 2, 'adventures': 1, 'tom': 1, 'sawyer': 1, 'but': 3, 'that': 4, \"ain't\": 1, 'no': 1, 'matter': 1, 'was': 3, 'made': 1, 'mr': 1, 'mark': 1, 'twain': 1, 'and': 3, 'he': 3, 'told': 3, 'truth': 2, 'mainly': 2, 'there': 1, 'things': 1, 'which': 2, 'stretched': 1, 'is': 4, 'nothing': 1, 'i': 2, 'never': 1, 'seen': 1, 'anybody': 1, 'lied': 1, 'one': 1, 'time': 1, 'or': 3, 'another': 1, 'it': 1, 'aunt': 3, 'polly': 3, 'widow': 2, 'maybe': 1, 'mary': 2, \"tom's\": 1, 'she': 1, 'douglas': 1, 'all': 1, 'in': 1, 'mostly': 1, 'true': 1, 'with': 1, 'some': 1, 'stretchers': 1, 'as': 1, 'said': 1, 'before': 1}\n",
    "\n",
    "sorted = [('the', 6), ('book', 4), ('that', 4), ('is', 4), ('but', 3), ('was', 3), ('and', 3), ('he', 3), ('told', 3), ('or', 3), ('aunt', 3), ('polly', 3), ('you', 2), ('about', 2), ('without', 2), ('a', 2), ('by', 2), ('of', 2), ('truth', 2), ('mainly', 2), ('which', 2), ('i', 2), ('widow', 2), ('mary', 2), (\"don't\", 1), ('know', 1), ('me', 1), ('have', 1), ('read', 1), ('name', 1), ('adventures', 1), ('tom', 1), ('sawyer', 1), (\"ain't\", 1), ('no', 1), ('matter', 1), ('made', 1), ('mr', 1), ('mark', 1), ('twain', 1), ('there', 1), ('things', 1), ('stretched', 1), ('nothing', 1), ('never', 1), ('seen', 1), ('anybody', 1), ('lied', 1), ('one', 1), ('time', 1), ('another', 1), ('it', 1), ('maybe', 1), (\"tom's\", 1), ('she', 1), ('douglas', 1), ('all', 1), ('in', 1), ('mostly', 1), ('true', 1), ('with', 1), ('some', 1), ('stretchers', 1), ('as', 1), ('said', 1), ('before', 1)]"
   ]
  },
  {
   "cell_type": "code",
   "execution_count": 0,
   "metadata": {},
   "outputs": [],
   "source": [
    "# run to read the next section\n",
    "ide.reader.view_section(3)"
   ]
  },
  {
   "cell_type": "code",
   "execution_count": 0,
   "metadata": {},
   "outputs": [],
   "source": [
    "def simple_vis(filename):\n",
    "  # Make a fake dataset:\n",
    "  height = [ 3,  12,   5,  18,  45]\n",
    "  bars   = ('A', 'B', 'C', 'D', 'E')\n",
    "  x_pos = range(len(bars)) # simple \n",
    "  \n",
    "  # uncomment line per directions\n",
    "  #plt.figure(0) \n",
    "  \n",
    "  # Create bars\n",
    "  plt.bar(x_pos, height)\n",
    "   \n",
    "  # Create names on the x-axis\n",
    "  plt.xticks(x_pos, bars)\n",
    "   \n",
    "  # 'Show' the graphic  \n",
    "  # plt.show() # not needed in colab \n",
    "  plt.savefig(filename)\n",
    "  print(\"created\", filename)\n",
    "\n",
    "simple_vis('simpleBar.png')"
   ]
  },
  {
   "cell_type": "code",
   "execution_count": 0,
   "metadata": {},
   "outputs": [],
   "source": [
    "# run to read the next section\n",
    "ide.reader.view_section(5)"
   ]
  },
  {
   "cell_type": "code",
   "execution_count": 0,
   "metadata": {},
   "outputs": [],
   "source": [
    "def visualize(tuples, filename):\n",
    "  labels = []\n",
    "  counts = []\n",
    "  for t in tuples:\n",
    "    labels.append(t[0])\n",
    "    counts.append(t[1])\n",
    "    \n",
    "  x_pos = range(len(labels))\n",
    "  \n",
    "  #plt.figure(1) # uncomment line per directions\n",
    "  \n",
    "  bars = plt.bar(x_pos, counts)\n",
    "  \n",
    "  plt.xlabel('word',  fontsize=12)\n",
    "  plt.ylabel('count', fontsize=12)\n",
    "  plt.xticks(x_pos, labels, fontsize=8, rotation=30)\n",
    "  plt.title('Word Usage')\n",
    "  plt.savefig(filename)\n",
    "  \n",
    "  print(\"created\", filename)\n",
    "  \n",
    "top_10 = sorted[0:10]\n",
    "visualize(top_10, 'top10A.png')"
   ]
  },
  {
   "cell_type": "code",
   "execution_count": 0,
   "metadata": {},
   "outputs": [],
   "source": [
    "# run to read the next section\n",
    "ide.reader.view_section(7)"
   ]
  },
  {
   "cell_type": "code",
   "execution_count": 0,
   "metadata": {},
   "outputs": [],
   "source": [
    "simple_vis('simpleBarB.png')\n",
    "top_10 = sorted[0:10]\n",
    "visualize(top_10, 'top10B.png')"
   ]
  },
  {
   "cell_type": "code",
   "execution_count": 0,
   "metadata": {},
   "outputs": [],
   "source": [
    "# run to read the next section\n",
    "ide.reader.view_section(9)"
   ]
  },
  {
   "cell_type": "code",
   "execution_count": 0,
   "metadata": {},
   "outputs": [],
   "source": [
    "simple_vis('simpleBarC.png')\n",
    "top_10 = sorted[0:10]\n",
    "visualize(top_10, 'top10C.png')"
   ]
  },
  {
   "cell_type": "markdown",
   "metadata": {},
   "source": [
    "# A Better Approach to Matplotlib"
   ]
  },
  {
   "cell_type": "code",
   "execution_count": 0,
   "metadata": {},
   "outputs": [],
   "source": [
    "# run to read the next section\n",
    "ide.reader.view_section(11)"
   ]
  },
  {
   "cell_type": "code",
   "execution_count": 0,
   "metadata": {},
   "outputs": [],
   "source": [
    "def visualize_better(tuples, filename):\n",
    "  \n",
    "  labels = []\n",
    "  counts = []\n",
    "  for t in tuples:\n",
    "    labels.append(t[0])\n",
    "    counts.append(t[1])\n",
    "    \n",
    "  x_pos = range(len(labels))\n",
    "  \n",
    "  # use the object API\n",
    "  fig = plt.figure()\n",
    "  ax  = fig.add_subplot(111) \n",
    "  #ax = fig.add_subplot(1,1,1) # same as above\n",
    "  \n",
    "  # create the bars\n",
    "  bars = ax.bar(x_pos, counts)\n",
    "  \n",
    "  ax.set_xlabel('word',  fontsize=12)\n",
    "  ax.set_ylabel('count', fontsize=12)\n",
    "  \n",
    "  ax.set_xticks(x_pos)\n",
    "  ax.set_xticklabels(labels, fontsize=8, rotation=30)\n",
    "  ax.set_title('Word Usage')\n",
    "  \n",
    "  #fig.show()\n",
    "  fig.savefig(filename)\n",
    "  \n",
    "  # return the figure\n",
    "  # allows the caller to customize\n",
    "  # do NOT return plt\n",
    "  return fig\n",
    "  \n",
    "top_10 = sorted[0:10]\n",
    "fig = visualize_better(top_10, 'top10C.png')"
   ]
  },
  {
   "cell_type": "code",
   "execution_count": 0,
   "metadata": {},
   "outputs": [],
   "source": [
    "# run to read the next section\n",
    "ide.reader.view_section(13)"
   ]
  },
  {
   "cell_type": "markdown",
   "metadata": {},
   "source": [
    "# Lesson Assignment"
   ]
  },
  {
   "cell_type": "code",
   "execution_count": 0,
   "metadata": {},
   "outputs": [],
   "source": [
    "# run to read the next section\n",
    "ide.reader.view_section(14)"
   ]
  },
  {
   "cell_type": "code",
   "execution_count": 0,
   "metadata": {},
   "outputs": [],
   "source": [
    "# put your solution here"
   ]
  },
  {
   "cell_type": "code",
   "execution_count": 0,
   "metadata": {},
   "outputs": [],
   "source": [
    "# run to read the next section\n",
    "ide.reader.view_section(16)"
   ]
  },
  {
   "cell_type": "code",
   "execution_count": 0,
   "metadata": {},
   "outputs": [],
   "source": [
    "print(ide.tester.list_tests())"
   ]
  },
  {
   "cell_type": "markdown",
   "metadata": {},
   "source": [
    "# Test and Submit"
   ]
  },
  {
   "cell_type": "code",
   "execution_count": 0,
   "metadata": {},
   "outputs": [],
   "source": [
    "# run to read the next section\n",
    "ide.reader.view_section(18)"
   ]
  },
  {
   "cell_type": "code",
   "execution_count": 0,
   "metadata": {},
   "outputs": [],
   "source": [
    "# print(ide.tester.test_notebook()) \n",
    "# print(ide.tester.test_notebook(verbose=True)) \n",
    "\n",
    "# once you are ready -- run this \n",
    "# ide.tester.download_solution()"
   ]
  }
 ],
 "metadata": {
  "colab": {
   "collapsed_sections": [],
   "name": "Cliff Note Generator",
   "provenance": []
  },
  "kernelspec": {
   "display_name": "Python 3",
   "name": "python3"
  },
  "language": "python",
  "story": {
   "auth_token": "fy8tSmPVpfKtR_ZDPHFpKNPfMG_GuFpb3yVmOn7M6nM=",
   "authorship_tag": "AB",
   "chapters": 20,
   "name": "Cliff Note Generator",
   "parser": {},
   "root": "https://raw.githubusercontent.com/habermanUIUC/CodeStoryLessons/main/lessons",
   "tag": "p4ds:ds:cng4"
  }
 },
 "nbformat": 4,
 "nbformat_minor": 4
}
