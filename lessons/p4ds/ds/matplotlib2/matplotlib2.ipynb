{
 "cells": [
  {
   "cell_type": "markdown",
   "metadata": {},
   "source": [
    "# Programming w/🐍 for Data Science \n",
    "<img src=\"https://raw.githubusercontent.com/habermanUIUC/CodeStoryLessons/main/lessons/p4ds/ds/matplotlib2/html/section00.png\" align=\"left\"/>"
   ]
  },
  {
   "cell_type": "markdown",
   "metadata": {},
   "source": [
    "<a id=\"install\"></a>\n",
    "## Notebook Preparation for Lesson 1•2•3\n",
    "Each lesson will start with a similar template (given in the course schedule):  \n",
    "1. **save** to your google drive (copy to drive)<br/><img src=\"https://raw.githubusercontent.com/habermanUIUC/CodeStoryLessons/main/assets/images/colab/copy-to-drive.png\"/>\n",
    "2. **update** the NET_ID to be your netID (no need to include @illinois.edu)\n",
    "3. **run** the next cell to install the IDE. <img src=\"https://raw.githubusercontent.com/habermanUIUC/CodeStoryLessons/main/assets/images/colab/play-button.png\"/>"
   ]
  },
  {
   "cell_type": "code",
   "execution_count": 0,
   "metadata": {},
   "outputs": [],
   "source": [
    "LESSON_ID = 'p4ds:ds:matplotlib2'   # keep this as is\n",
    "NET_ID    = 'CHANGE_ME' # CHANGE_ME to your netID (keep the quotes)\n",
    "\n",
    "def install_ide(net_id, lesson_id):\n",
    "  import sys\n",
    "  if 'codestories' not in sys.modules:\n",
    "      print('installing modules')\n",
    "      !pip install git+https://mehaberman@bitbucket.org/mehaberman/codestories.git --upgrade &> install.log\n",
    "  \n",
    "  from codestories.cs.CodeStories import CodeStory\n",
    "  return CodeStory(net_id, lesson_id)\n",
    "\n",
    "ide = install_ide(NET_ID, LESSON_ID)\n",
    "print(ide.welcome())"
   ]
  },
  {
   "cell_type": "markdown",
   "metadata": {},
   "source": [
    "# Lesson Matplotlib, part 2\n",
    "(hit ▶ to read the first part of the lesson️)"
   ]
  },
  {
   "cell_type": "code",
   "execution_count": 0,
   "metadata": {},
   "outputs": [],
   "source": [
    "# run to read the next section\n",
    "ide.reader.view_section(1)"
   ]
  },
  {
   "cell_type": "code",
   "execution_count": 0,
   "metadata": {},
   "outputs": [],
   "source": [
    "import matplotlib\n",
    "import matplotlib.pyplot as plt\n",
    "import numpy as np\n",
    "\n",
    "# add the data here"
   ]
  },
  {
   "cell_type": "code",
   "execution_count": 0,
   "metadata": {},
   "outputs": [],
   "source": [
    "# run to read the next section\n",
    "ide.reader.view_section(3)"
   ]
  },
  {
   "cell_type": "code",
   "execution_count": 0,
   "metadata": {},
   "outputs": [],
   "source": [
    "chart_v1(\"x¹\", x, fx1)"
   ]
  },
  {
   "cell_type": "code",
   "execution_count": 0,
   "metadata": {},
   "outputs": [],
   "source": [
    "# run to read the next section\n",
    "ide.reader.view_section(5)"
   ]
  },
  {
   "cell_type": "code",
   "execution_count": 0,
   "metadata": {},
   "outputs": [],
   "source": [
    "chart_v1b(\"x¹ x²\", x, fx1, x,fx2)"
   ]
  },
  {
   "cell_type": "code",
   "execution_count": 0,
   "metadata": {},
   "outputs": [],
   "source": [
    "# run to read the next section\n",
    "ide.reader.view_section(7)"
   ]
  },
  {
   "cell_type": "code",
   "execution_count": 0,
   "metadata": {},
   "outputs": [],
   "source": [
    "# Data Transposition:\n",
    "dataset = [fx1, fx2, fx3]\n",
    "f_x     = np.transpose(dataset)\n",
    "all_x   = np.transpose([x,x,x])"
   ]
  },
  {
   "cell_type": "code",
   "execution_count": 0,
   "metadata": {},
   "outputs": [],
   "source": [
    "# run to read the next section\n",
    "ide.reader.view_section(9)"
   ]
  },
  {
   "cell_type": "code",
   "execution_count": 0,
   "metadata": {},
   "outputs": [],
   "source": [
    "chart_v2(\"x¹ x² x³\", all_x, f_x)"
   ]
  },
  {
   "cell_type": "code",
   "execution_count": 0,
   "metadata": {},
   "outputs": [],
   "source": [
    "# run to read the next section\n",
    "ide.reader.view_section(11)"
   ]
  },
  {
   "cell_type": "code",
   "execution_count": 0,
   "metadata": {},
   "outputs": [],
   "source": [
    "def chart_v3(title, x, y):\n",
    "\n",
    "     fig, axes = plt.subplots(nrows=1,ncols=1)\n",
    "  \n",
    "     colors = ['red', 'green', 'blue']\n",
    "     axes.set_prop_cycle(color=colors)\n",
    "     axes.plot(x, y)\n",
    "\n",
    "     axes.set_title(title, fontsize=12)\n",
    "\n",
    "chart_v3(\"x¹ x² x³\", all_x, f_x)"
   ]
  },
  {
   "cell_type": "code",
   "execution_count": 0,
   "metadata": {},
   "outputs": [],
   "source": [
    "# run to read the next section\n",
    "ide.reader.view_section(13)"
   ]
  },
  {
   "cell_type": "code",
   "execution_count": 0,
   "metadata": {},
   "outputs": [],
   "source": [
    "chart_v4(\"x¹ x² x³\", all_x, f_x)"
   ]
  },
  {
   "cell_type": "code",
   "execution_count": 0,
   "metadata": {},
   "outputs": [],
   "source": [
    "# run to read the next section\n",
    "ide.reader.view_section(15)"
   ]
  },
  {
   "cell_type": "code",
   "execution_count": 0,
   "metadata": {},
   "outputs": [],
   "source": [
    "def chart_v5(title, x, y):\n",
    "\n",
    "    fig, axes = plt.subplots(nrows=1,ncols=1)\n",
    "  \n",
    "    colors = ['red', 'green', 'blue']\n",
    "    axes.set_prop_cycle(color=colors)\n",
    "    plots = axes.plot(x, y)\n",
    "\n",
    "    # legend\n",
    "    axes.set_title(title, fontsize=12)\n",
    "    lbls = title.split()\n",
    "    axes.legend(handles=plots, loc='upper left', labels=lbls)\n",
    "\n",
    "    # add a grid background\n",
    "    axes.grid(True)\n",
    "\n",
    "    axes.set_xlabel('x')\n",
    "    axes.set_ylabel('f(x)')\n",
    "  \n",
    "    # add tick marks at each interval + 1/2 interval\n",
    "    x_count = int(np.ma.size(x, axis=0))\n",
    "    x_min = np.amin(x)\n",
    "    x_max = np.amax(x)\n",
    "    ticks = np.linspace(x_min, x_max, int(x_count/2.0))\n",
    "    labels = [\"{:0.2f}\".format(i) for i in ticks]\n",
    "    axes.set_xticks(ticks)\n",
    "    axes.set_xticklabels(labels, fontsize=12, rotation=-45)\n",
    "\n",
    "chart_v5(\"x¹ x² x³\", all_x, f_x)"
   ]
  },
  {
   "cell_type": "markdown",
   "metadata": {},
   "source": [
    "# Multiple SubPlots"
   ]
  },
  {
   "cell_type": "code",
   "execution_count": 0,
   "metadata": {},
   "outputs": [],
   "source": [
    "# run to read the next section\n",
    "ide.reader.view_section(17)"
   ]
  },
  {
   "cell_type": "code",
   "execution_count": 0,
   "metadata": {},
   "outputs": [],
   "source": [
    "def chart_s1(chart, x, y, title=''):\n",
    "    chart.plot(x, y, label=title)\n",
    "    chart.set_title(title, fontsize=12)\n",
    "\n",
    "fig, axes = plt.subplots(nrows=1, ncols=3, figsize=(10, 4))\n",
    "chart_s1(axes[0], x, fx1, 'x¹')"
   ]
  },
  {
   "cell_type": "code",
   "execution_count": 0,
   "metadata": {},
   "outputs": [],
   "source": [
    "# run to read the next section\n",
    "ide.reader.view_section(19)"
   ]
  },
  {
   "cell_type": "code",
   "execution_count": 0,
   "metadata": {},
   "outputs": [],
   "source": [
    "fig, axes = plt.subplots(nrows=1, ncols=3, figsize=(10, 4))\n",
    "chart_s1(axes[0], x, fx1, 'x¹')\n",
    "chart_s1(axes[1], x, fx2, 'x²')\n",
    "chart_s1(axes[2], x, fx3, 'x³')"
   ]
  },
  {
   "cell_type": "code",
   "execution_count": 0,
   "metadata": {},
   "outputs": [],
   "source": [
    "# run to read the next section\n",
    "ide.reader.view_section(21)"
   ]
  },
  {
   "cell_type": "code",
   "execution_count": 0,
   "metadata": {},
   "outputs": [],
   "source": [
    "fig, axes = plt.subplots(nrows=1, ncols=2, figsize=(10, 4))\n",
    "chart_s1(axes[0], x, fx1, 'x¹')\n",
    "chart_s2(axes[1], x, fx2, 'x²')"
   ]
  },
  {
   "cell_type": "code",
   "execution_count": 0,
   "metadata": {},
   "outputs": [],
   "source": [
    "# run to read the next section\n",
    "ide.reader.view_section(23)"
   ]
  },
  {
   "cell_type": "code",
   "execution_count": 0,
   "metadata": {},
   "outputs": [],
   "source": [
    "fig, axes = plt.subplots(nrows=1, ncols=3, figsize=(10, 4))\n",
    "chart_s1(axes[0], x, fx1, 'x¹')\n",
    "chart_s2(axes[1], x, fx2, 'x²')\n",
    "chart_s3(axes[2], x, fx3, 'x³')\n",
    "_ig = fig.legend(loc='upper left')"
   ]
  },
  {
   "cell_type": "code",
   "execution_count": 0,
   "metadata": {},
   "outputs": [],
   "source": [
    "# run to read the next section\n",
    "ide.reader.view_section(25)"
   ]
  },
  {
   "cell_type": "code",
   "execution_count": 0,
   "metadata": {},
   "outputs": [],
   "source": [
    "fig, axes = plt.subplots(nrows=2, ncols=2)\n",
    "chart_s1(axes[0][0], x,fx2)\n",
    "chart_s2(axes[0][1], x,fx3)\n",
    "chart_s1(axes[1][0], x,fx2)\n",
    "chart_s2(axes[1][1], x,fx1)"
   ]
  },
  {
   "cell_type": "markdown",
   "metadata": {},
   "source": [
    "# Numpy Data!"
   ]
  },
  {
   "cell_type": "code",
   "execution_count": 0,
   "metadata": {},
   "outputs": [],
   "source": [
    "# run to read the next section\n",
    "ide.reader.view_section(27)"
   ]
  },
  {
   "cell_type": "markdown",
   "metadata": {},
   "source": [
    "# 111 ?"
   ]
  },
  {
   "cell_type": "code",
   "execution_count": 0,
   "metadata": {},
   "outputs": [],
   "source": [
    "# run to read the next section\n",
    "ide.reader.view_section(28)"
   ]
  },
  {
   "cell_type": "code",
   "execution_count": 0,
   "metadata": {},
   "outputs": [],
   "source": [
    "def complex_1():\n",
    "    fig = plt.figure()\n",
    "\n",
    "    a = fig.add_subplot(1, 2, 1)  \n",
    "    b = fig.add_subplot(2, 2, 2)  \n",
    "    c = fig.add_subplot(2, 2, 4)\n",
    "\n",
    "    a.set_title('top and bottom left')\n",
    "    b.set_title('top right')\n",
    "    c.set_title('bottom right')\n",
    "\n",
    "    a.grid(color='b', alpha=0.5, linestyle='dashed', linewidth=0.5)\n",
    "    b.grid(color='b', alpha=0.5, linestyle='dashed', linewidth=0.5)\n",
    "    c.grid(color='b', alpha=0.5, linestyle='dashed', linewidth=0.5)\n",
    "  \n",
    "    fig.tight_layout()\n",
    "\n",
    "complex_1()"
   ]
  },
  {
   "cell_type": "code",
   "execution_count": 0,
   "metadata": {},
   "outputs": [],
   "source": [
    "# run to read the next section\n",
    "ide.reader.view_section(30)"
   ]
  },
  {
   "cell_type": "code",
   "execution_count": 0,
   "metadata": {},
   "outputs": [],
   "source": [
    "def complex_2():\n",
    "    fig = plt.figure()\n",
    "    fig.add_subplot(221, title='top left')\n",
    "    fig.add_subplot(222, title='top right')    \n",
    "    fig.add_subplot(223, title='bottom left')    \n",
    "    fig.add_subplot(224, title='bottom right') \n",
    "    fig.tight_layout()\n",
    "\n",
    "complex_2()"
   ]
  },
  {
   "cell_type": "markdown",
   "metadata": {},
   "source": [
    "# More Axis Labeling:"
   ]
  },
  {
   "cell_type": "code",
   "execution_count": 0,
   "metadata": {},
   "outputs": [],
   "source": [
    "# run to read the next section\n",
    "ide.reader.view_section(32)"
   ]
  },
  {
   "cell_type": "code",
   "execution_count": 0,
   "metadata": {},
   "outputs": [],
   "source": [
    "import matplotlib.ticker as ticker\n",
    "\n",
    "def chart_s3b(axes, title, x, y):\n",
    "\n",
    "    chart_s3(axes, title, x, y)\n",
    " \n",
    "    # now update the axes\n",
    "    axes.xaxis.set_major_locator(ticker.MaxNLocator(integer=True)) \n",
    "    axes.yaxis.set_major_formatter(ticker.ScalarFormatter())"
   ]
  },
  {
   "cell_type": "code",
   "execution_count": 0,
   "metadata": {},
   "outputs": [],
   "source": [
    "# run to read the next section\n",
    "ide.reader.view_section(34)"
   ]
  },
  {
   "cell_type": "code",
   "execution_count": 0,
   "metadata": {},
   "outputs": [],
   "source": [
    "def chart_s3c(axes, title, x, y):\n",
    "\n",
    "    chart_s3(axes, title, x, y)\n",
    "\n",
    "    def custom(x,pos):\n",
    "      if x < 1:\n",
    "        return '{0:0.2f}'.format(x)\n",
    "      else:\n",
    "        return '{0:d}'.format(int(x))\n",
    "  \n",
    "    # now update the axes\n",
    "    axes.xaxis.set_major_locator(ticker.MaxNLocator(integer=True)) \n",
    "    axes.yaxis.set_major_formatter(ticker.FuncFormatter(custom))\n",
    "\n",
    "fig, axes = plt.subplots(nrows=1, ncols=3, figsize=(10, 4))\n",
    "chart_s2(axes[0],  x, fx2, 'x²')\n",
    "chart_s3(axes[1],  x, fx3, 'x³')\n",
    "chart_s3c(axes[2], x, fx3, 'x³')"
   ]
  },
  {
   "cell_type": "markdown",
   "metadata": {},
   "source": [
    "# Styles"
   ]
  },
  {
   "cell_type": "code",
   "execution_count": 0,
   "metadata": {},
   "outputs": [],
   "source": [
    "# run to read the next section\n",
    "ide.reader.view_section(36)"
   ]
  },
  {
   "cell_type": "markdown",
   "metadata": {},
   "source": [
    "# Lesson Assignment"
   ]
  },
  {
   "cell_type": "code",
   "execution_count": 0,
   "metadata": {},
   "outputs": [],
   "source": [
    "# run to read the next section\n",
    "ide.reader.view_section(37)"
   ]
  },
  {
   "cell_type": "code",
   "execution_count": 0,
   "metadata": {},
   "outputs": [],
   "source": [
    "# solution"
   ]
  },
  {
   "cell_type": "markdown",
   "metadata": {},
   "source": [
    "# Test and Submit"
   ]
  },
  {
   "cell_type": "code",
   "execution_count": 0,
   "metadata": {},
   "outputs": [],
   "source": [
    "# run to read the next section\n",
    "ide.reader.view_section(39)"
   ]
  },
  {
   "cell_type": "code",
   "execution_count": 0,
   "metadata": {},
   "outputs": [],
   "source": [
    "# print(ide.tester.test_notebook()) \n",
    "# print(ide.tester.test_notebook(verbose=True)) \n",
    "\n",
    "# once you are ready -- run this \n",
    "# ide.tester.download_solution()"
   ]
  }
 ],
 "metadata": {
  "colab": {
   "collapsed_sections": [],
   "name": "Matplotlib, part 2",
   "provenance": []
  },
  "kernelspec": {
   "display_name": "Python 3",
   "name": "python3"
  },
  "language": "python",
  "story": {
   "auth_token": "w6QwSFeWibBCZoeBKIQgBwzWnSDU5fzyE6LmiAGNWl4=",
   "authorship_tag": "AB",
   "chapters": 41,
   "name": "Matplotlib, part 2",
   "parser": {},
   "root": "https://raw.githubusercontent.com/habermanUIUC/CodeStoryLessons/main/lessons",
   "tag": "p4ds:ds:matplotlib2"
  }
 },
 "nbformat": 4,
 "nbformat_minor": 4
}
