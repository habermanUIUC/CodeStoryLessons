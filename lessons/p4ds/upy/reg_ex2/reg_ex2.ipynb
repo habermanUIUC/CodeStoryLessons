{
 "cells": [
  {
   "cell_type": "markdown",
   "metadata": {},
   "source": [
    "# Programming w/🐍 for Data Science \n",
    "<img src=\"https://raw.githubusercontent.com/habermanUIUC/CodeStoryLessons/main/lessons/p4ds/upy/reg_ex2/html/section00.png\" align=\"left\"/>"
   ]
  },
  {
   "cell_type": "markdown",
   "metadata": {},
   "source": [
    "<a id=\"install\"></a>\n",
    "## Notebook Preparation for Lesson 1•2•3\n",
    "Each lesson will start with a similar template (given in the course schedule):  \n",
    "1. **save** to your google drive (copy to drive)<br/><img src=\"https://raw.githubusercontent.com/habermanUIUC/CodeStoryLessons/main/assets/images/colab/copy-to-drive.png\"/>\n",
    "2. **update** the NET_ID to be your netID (no need to include @illinois.edu)\n",
    "3. **run** the next cell to install the IDE. <img src=\"https://raw.githubusercontent.com/habermanUIUC/CodeStoryLessons/main/assets/images/colab/play-button.png\"/>"
   ]
  },
  {
   "cell_type": "code",
   "execution_count": 0,
   "metadata": {},
   "outputs": [],
   "source": [
    "LESSON_ID = 'p4ds:upy:reg_ex2'   # keep this as is\n",
    "NET_ID    = 'CHANGE_ME' # CHANGE_ME to your netID (keep the quotes)\n",
    "\n",
    "def install_ide(net_id, lesson_id):\n",
    "  import sys\n",
    "  if 'codestories' not in sys.modules:\n",
    "      print('installing modules')\n",
    "      !pip install git+https://mehaberman@bitbucket.org/mehaberman/codestories.git --upgrade &> install.log\n",
    "  \n",
    "  from codestories.cs.CodeStories import CodeStory\n",
    "  return CodeStory(net_id, lesson_id)\n",
    "\n",
    "ide = install_ide(NET_ID, LESSON_ID)\n",
    "print(ide.welcome())"
   ]
  },
  {
   "cell_type": "markdown",
   "metadata": {},
   "source": [
    "# Lesson Regular Expressions (part 2)\n",
    "(hit ▶ to read the first part of the lesson️)"
   ]
  },
  {
   "cell_type": "code",
   "execution_count": 0,
   "metadata": {},
   "outputs": [],
   "source": [
    "# run to read the next section\n",
    "ide.reader.view_section(1)"
   ]
  },
  {
   "cell_type": "markdown",
   "metadata": {},
   "source": [
    "# New in this lesson"
   ]
  },
  {
   "cell_type": "code",
   "execution_count": 0,
   "metadata": {},
   "outputs": [],
   "source": [
    "# run to read the next section\n",
    "ide.reader.view_section(2)"
   ]
  },
  {
   "cell_type": "code",
   "execution_count": 0,
   "metadata": {},
   "outputs": [],
   "source": [
    "import re\n",
    "text = \"He said breathe and she and the sheep did hehe\"\n",
    "pattern = r'he|she'\n",
    "r = re.findall(pattern, text, re.IGNORECASE)\n",
    "print(r)"
   ]
  },
  {
   "cell_type": "code",
   "execution_count": 0,
   "metadata": {},
   "outputs": [],
   "source": [
    "# run to read the next section\n",
    "ide.reader.view_section(4)"
   ]
  },
  {
   "cell_type": "code",
   "execution_count": 0,
   "metadata": {},
   "outputs": [],
   "source": [
    "def find_vowels(text):\n",
    "   pattern = r'[a-z]*[aeiou]{2}[a-z]*'\n",
    "   regex   = re.compile(pattern, re.IGNORECASE)\n",
    "   return(regex.findall(text))"
   ]
  },
  {
   "cell_type": "code",
   "execution_count": 0,
   "metadata": {},
   "outputs": [],
   "source": [
    "# run to read the next section\n",
    "ide.reader.view_section(6)"
   ]
  },
  {
   "cell_type": "code",
   "execution_count": 0,
   "metadata": {},
   "outputs": [],
   "source": [
    "import LessonUtil as Util\n",
    "def vowel_demo():\n",
    "    txt  = Util.read_huck()\n",
    "    uniq = list(Util.get_uniq_set(find_vowels(txt)))\n",
    "    print(uniq[0:20], len(uniq))"
   ]
  },
  {
   "cell_type": "code",
   "execution_count": 0,
   "metadata": {},
   "outputs": [],
   "source": [
    "# run to read the next section\n",
    "ide.reader.view_section(8)"
   ]
  },
  {
   "cell_type": "code",
   "execution_count": 0,
   "metadata": {},
   "outputs": [],
   "source": [
    "import LessonUtil as Util\n",
    "def find_vowels_starts(text):\n",
    "    pattern = r'[aeiou]{2}[a-z]*'\n",
    "    regex   = re.compile(pattern, re.IGNORECASE)\n",
    "    return(regex.findall(text))\n",
    " \n",
    "def test_starting_vowels():\n",
    "    v    = find_vowels_starts(Util.read_huck())\n",
    "    uniq = list(Util.get_uniq_set(v))\n",
    "    print(uniq[0:20], len(uniq))"
   ]
  },
  {
   "cell_type": "code",
   "execution_count": 0,
   "metadata": {},
   "outputs": [],
   "source": [
    "# run to read the next section\n",
    "ide.reader.view_section(10)"
   ]
  },
  {
   "cell_type": "code",
   "execution_count": 0,
   "metadata": {},
   "outputs": [],
   "source": [
    "def find_vowels_starts(text):\n",
    "    pattern = r'\\b[aeiou]{2}[a-z]*'\n",
    "    regex   = re.compile(pattern, re.IGNORECASE)\n",
    "    return regex.findall(text)\n",
    " \n",
    "v    = find_vowels_starts(Util.read_huck())\n",
    "uniq = list(Util.get_uniq_set(v))\n",
    "print(uniq[0:20], len(uniq))"
   ]
  },
  {
   "cell_type": "code",
   "execution_count": 0,
   "metadata": {},
   "outputs": [],
   "source": [
    "# run to read the next section\n",
    "ide.reader.view_section(12)"
   ]
  },
  {
   "cell_type": "code",
   "execution_count": 0,
   "metadata": {},
   "outputs": [],
   "source": [
    "def find_vowels_ends(text):\n",
    "    pattern = r'\\b[a-z]*[aeiou]{2}\\b'\n",
    "    regex   = re.compile(pattern, re.IGNORECASE)\n",
    "    return regex.findall(text)\n",
    " \n",
    "v    = find_vowels_ends(Util.read_huck())\n",
    "uniq = list(Util.get_uniq_set(v))\n",
    "print(uniq[0:20], len(uniq))"
   ]
  },
  {
   "cell_type": "code",
   "execution_count": 0,
   "metadata": {},
   "outputs": [],
   "source": [
    "# run to read the next section\n",
    "ide.reader.view_section(14)"
   ]
  },
  {
   "cell_type": "code",
   "execution_count": 0,
   "metadata": {},
   "outputs": [],
   "source": [
    "def s_he_demo():\n",
    "    text = \"He said breathe and she and the sheep did hehe\"\n",
    "    pattern = r'he|she'\n",
    "    r = re.findall(pattern, text, re.IGNORECASE)\n",
    "    print(r)"
   ]
  },
  {
   "cell_type": "code",
   "execution_count": 0,
   "metadata": {},
   "outputs": [],
   "source": [
    "# run to read the next section\n",
    "ide.reader.view_section(16)"
   ]
  },
  {
   "cell_type": "code",
   "execution_count": 0,
   "metadata": {},
   "outputs": [],
   "source": [
    "text = \"a telethon of a python coding marathon raised awareness of sleep state misperception\"\n",
    "pattern = r'\\b(py|mara|tele)thon\\b'\n",
    "r = re.findall(pattern, text, re.IGNORECASE)\n",
    "print(r)"
   ]
  },
  {
   "cell_type": "code",
   "execution_count": 0,
   "metadata": {},
   "outputs": [],
   "source": [
    "# run to read the next section\n",
    "ide.reader.view_section(18)"
   ]
  },
  {
   "cell_type": "code",
   "execution_count": 0,
   "metadata": {},
   "outputs": [],
   "source": [
    "poem = '''\\\n",
    "I LIKE\n",
    "Dogs\n",
    "Black Dogs, Green Dogs\n",
    "Bad Dogs, Mean Dogs\n",
    "All kinds of Dogs\n",
    "I like Dogs\n",
    "Dogs\n",
    "'''\n",
    " \n",
    "def find_dogs(text):\n",
    "    pattern = r'Dogs'\n",
    "    regex   = re.compile(pattern)\n",
    "    return regex.findall(text)\n",
    " \n",
    "v = find_dogs(poem)\n",
    "print(\"dogs:\", len(v))"
   ]
  },
  {
   "cell_type": "code",
   "execution_count": 0,
   "metadata": {},
   "outputs": [],
   "source": [
    "# run to read the next section\n",
    "ide.reader.view_section(20)"
   ]
  },
  {
   "cell_type": "code",
   "execution_count": 0,
   "metadata": {},
   "outputs": [],
   "source": [
    "def find_dogs(text):\n",
    "    pattern = r'^Dogs'\n",
    "    regex   = re.compile(pattern)\n",
    "    return regex.findall(text)\n",
    "    \n",
    "poem = \"Dogs I like Dogs\\nDogs I am\"\n",
    "v = find_dogs(poem)\n",
    "print(\"dogs:\", len(v))"
   ]
  },
  {
   "cell_type": "code",
   "execution_count": 0,
   "metadata": {},
   "outputs": [],
   "source": [
    "# run to read the next section\n",
    "ide.reader.view_section(22)"
   ]
  },
  {
   "cell_type": "code",
   "execution_count": 0,
   "metadata": {},
   "outputs": [],
   "source": [
    "def find_dogs(text):\n",
    "    pattern = r'^Dogs'\n",
    "    regex   = re.compile(pattern, re.IGNORECASE | re.M)\n",
    "    return regex.findall(text)\n",
    " \n",
    "poem = \"Dogs I like Dogs\\ndogs I am\"\n",
    "v = find_dogs(poem)\n",
    "print(\"dogs:\", len(v))"
   ]
  },
  {
   "cell_type": "code",
   "execution_count": 0,
   "metadata": {},
   "outputs": [],
   "source": [
    "# run to read the next section\n",
    "ide.reader.view_section(24)"
   ]
  },
  {
   "cell_type": "code",
   "execution_count": 0,
   "metadata": {},
   "outputs": [],
   "source": [
    "poem = '''\\\n",
    "I LIKE\n",
    "Dogs\n",
    "Black Dogs, Green Dogs\n",
    "Bad Dogs, Mean Dogs\n",
    "All kinds of Dogs\n",
    "I like Dogs\n",
    "Dogs\n",
    "'''\n",
    "\n",
    "def find_dogs(text):\n",
    "    pattern = r'Dogs$'\n",
    "    regex   = re.compile(pattern, re.IGNORECASE | re.M)\n",
    "    return regex.findall(text)\n",
    "    \n",
    "v = find_dogs(poem)\n",
    "print(\"dogs:\", len(v))"
   ]
  },
  {
   "cell_type": "code",
   "execution_count": 0,
   "metadata": {},
   "outputs": [],
   "source": [
    "# run to read the next section\n",
    "ide.reader.view_section(26)"
   ]
  },
  {
   "cell_type": "code",
   "execution_count": 0,
   "metadata": {},
   "outputs": [],
   "source": [
    "import LessonUtil as Util\n",
    "def find_vowels_ends(text):\n",
    "    pattern = r'[a-z]*[aeiou]{2}$'\n",
    "    regex   = re.compile(pattern, re.M | re.IGNORECASE)\n",
    "    return(regex.findall(text))\n",
    " \n",
    "v = find_vowels_ends(Util.read_huck())\n",
    "uniq = list(Util.get_uniq_set(v))\n",
    "print(uniq[0:20])"
   ]
  },
  {
   "cell_type": "code",
   "execution_count": 0,
   "metadata": {},
   "outputs": [],
   "source": [
    "# run to read the next section\n",
    "ide.reader.view_section(28)"
   ]
  },
  {
   "cell_type": "markdown",
   "metadata": {},
   "source": [
    "# Lesson Assignment"
   ]
  },
  {
   "cell_type": "code",
   "execution_count": 0,
   "metadata": {},
   "outputs": [],
   "source": [
    "# run to read the next section\n",
    "ide.reader.view_section(29)"
   ]
  },
  {
   "cell_type": "code",
   "execution_count": 0,
   "metadata": {},
   "outputs": [],
   "source": [
    "def h_q0():\n",
    "  pattern = r''  \n",
    "  # include any necessary flags too\n",
    "  return re.compile(pattern, re.IGNORECASE)"
   ]
  },
  {
   "cell_type": "code",
   "execution_count": 0,
   "metadata": {},
   "outputs": [],
   "source": [
    "# run to read the next section\n",
    "ide.reader.view_section(31)"
   ]
  },
  {
   "cell_type": "code",
   "execution_count": 0,
   "metadata": {},
   "outputs": [],
   "source": [
    "def h_q1():\n",
    "  pattern = r''  \n",
    "  return re.compile(pattern)"
   ]
  },
  {
   "cell_type": "code",
   "execution_count": 0,
   "metadata": {},
   "outputs": [],
   "source": [
    "# run to read the next section\n",
    "ide.reader.view_section(33)"
   ]
  },
  {
   "cell_type": "code",
   "execution_count": 0,
   "metadata": {},
   "outputs": [],
   "source": [
    "def h_q2():\n",
    "  pattern = r''  \n",
    "  return re.compile(pattern)"
   ]
  },
  {
   "cell_type": "code",
   "execution_count": 0,
   "metadata": {},
   "outputs": [],
   "source": [
    "# run to read the next section\n",
    "ide.reader.view_section(35)"
   ]
  },
  {
   "cell_type": "code",
   "execution_count": 0,
   "metadata": {},
   "outputs": [],
   "source": [
    "def h_q3():\n",
    "  pattern = r''  \n",
    "  return re.compile(pattern)"
   ]
  },
  {
   "cell_type": "code",
   "execution_count": 0,
   "metadata": {},
   "outputs": [],
   "source": [
    "# run to read the next section\n",
    "ide.reader.view_section(37)"
   ]
  },
  {
   "cell_type": "code",
   "execution_count": 0,
   "metadata": {},
   "outputs": [],
   "source": [
    "def h_q4():\n",
    "  pattern = r''  \n",
    "  return re.compile(pattern)"
   ]
  },
  {
   "cell_type": "code",
   "execution_count": 0,
   "metadata": {},
   "outputs": [],
   "source": [
    "# run to read the next section\n",
    "ide.reader.view_section(39)"
   ]
  },
  {
   "cell_type": "code",
   "execution_count": 0,
   "metadata": {},
   "outputs": [],
   "source": [
    "def w_q0():\n",
    "  pattern = r''  \n",
    "  return re.compile(pattern)"
   ]
  },
  {
   "cell_type": "code",
   "execution_count": 0,
   "metadata": {},
   "outputs": [],
   "source": [
    "# run to read the next section\n",
    "ide.reader.view_section(41)"
   ]
  },
  {
   "cell_type": "code",
   "execution_count": 0,
   "metadata": {},
   "outputs": [],
   "source": [
    "def w_q1():\n",
    "  pattern = r''  \n",
    "  return re.compile(pattern)"
   ]
  },
  {
   "cell_type": "code",
   "execution_count": 0,
   "metadata": {},
   "outputs": [],
   "source": [
    "# run to read the next section\n",
    "ide.reader.view_section(43)"
   ]
  },
  {
   "cell_type": "code",
   "execution_count": 0,
   "metadata": {},
   "outputs": [],
   "source": [
    "def w_q2():\n",
    "  pattern = r''  \n",
    "  return re.compile(pattern)"
   ]
  },
  {
   "cell_type": "code",
   "execution_count": 0,
   "metadata": {},
   "outputs": [],
   "source": [
    "# run to read the next section\n",
    "ide.reader.view_section(45)"
   ]
  },
  {
   "cell_type": "code",
   "execution_count": 0,
   "metadata": {},
   "outputs": [],
   "source": [
    "def w_q3():\n",
    "  pattern = r''  \n",
    "  return re.compile(pattern)"
   ]
  },
  {
   "cell_type": "code",
   "execution_count": 0,
   "metadata": {},
   "outputs": [],
   "source": [
    "# run to read the next section\n",
    "ide.reader.view_section(47)"
   ]
  },
  {
   "cell_type": "code",
   "execution_count": 0,
   "metadata": {},
   "outputs": [],
   "source": [
    "def w_q4():\n",
    "  pattern = r'' \n",
    "  return re.compile(pattern)"
   ]
  },
  {
   "cell_type": "markdown",
   "metadata": {},
   "source": [
    "# Test and Submit"
   ]
  },
  {
   "cell_type": "code",
   "execution_count": 0,
   "metadata": {},
   "outputs": [],
   "source": [
    "# run to read the next section\n",
    "ide.reader.view_section(49)"
   ]
  },
  {
   "cell_type": "code",
   "execution_count": 0,
   "metadata": {},
   "outputs": [],
   "source": [
    "# print(ide.tester.test_notebook()) \n",
    "# print(ide.tester.test_notebook(verbose=True)) \n",
    "\n",
    "# once you are ready -- run this \n",
    "# ide.tester.download_solution()"
   ]
  }
 ],
 "metadata": {
  "colab": {
   "collapsed_sections": [],
   "name": "Regular Expressions (part 2)",
   "provenance": []
  },
  "kernelspec": {
   "display_name": "Python 3",
   "name": "python3"
  },
  "language": "python",
  "story": {
   "auth_token": "uFlL1fHkNs6NClj91i2qSpYSNXVOGtkMTE9VfF21h7E=",
   "authorship_tag": "AB",
   "chapters": 51,
   "name": "Regular Expressions (part 2)",
   "parser": {},
   "root": "https://raw.githubusercontent.com/habermanUIUC/CodeStoryLessons/main/lessons",
   "tag": "p4ds:upy:reg_ex2"
  }
 },
 "nbformat": 4,
 "nbformat_minor": 4
}
