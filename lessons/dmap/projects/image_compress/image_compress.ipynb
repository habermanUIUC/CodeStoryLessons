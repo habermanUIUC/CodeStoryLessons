{
 "cells": [
  {
   "cell_type": "markdown",
   "metadata": {},
   "source": [
    "# Data, Machines and the 🐍 \n",
    "<img src=\"https://raw.githubusercontent.com/habermanUIUC/CodeStoryLessons/main/lessons/dmap/projects/image_compress/html/section00.png\" align=\"left\"/>"
   ]
  },
  {
   "cell_type": "markdown",
   "metadata": {},
   "source": [
    "<a id=\"install\"></a>\n",
    "## Notebook Preparation for Lesson 1•2•3\n",
    "Each lesson will start with a similar template (given in the course schedule):  \n",
    "1. **save** to your google drive (copy to drive)<br/><img src=\"https://raw.githubusercontent.com/habermanUIUC/CodeStoryLessons/main/assets/images/colab/copy-to-drive.png\"/>\n",
    "2. **update** the NET_ID to be your netID (no need to include @illinois.edu)\n",
    "3. **run** the next cell to install the IDE. <img src=\"https://raw.githubusercontent.com/habermanUIUC/CodeStoryLessons/main/assets/images/colab/play-button.png\"/>"
   ]
  },
  {
   "cell_type": "code",
   "execution_count": 0,
   "metadata": {},
   "outputs": [],
   "source": [
    "LESSON_ID = 'dmap:projects:image_compress'   # keep this as is\n",
    "NET_ID    = 'CHANGE_ME' # CHANGE_ME to your netID (keep the quotes)\n",
    "\n",
    "def install_ide(net_id, lesson_id):\n",
    "  import sys\n",
    "  if 'codestories' not in sys.modules:\n",
    "      print('installing modules')\n",
    "      !pip install git+https://mehaberman@bitbucket.org/mehaberman/codestories.git --upgrade &> install.log\n",
    "  \n",
    "  from codestories.cs.CodeStories import CodeStory\n",
    "  return CodeStory(net_id, lesson_id)\n",
    "\n",
    "ide = install_ide(NET_ID, LESSON_ID)\n",
    "print(ide.welcome())"
   ]
  },
  {
   "cell_type": "markdown",
   "metadata": {},
   "source": [
    "# Lesson Manipulating Image Data\n",
    "(hit ▶ to read the first part of the lesson️)"
   ]
  },
  {
   "cell_type": "code",
   "execution_count": 0,
   "metadata": {},
   "outputs": [],
   "source": [
    "# run to read the next section\n",
    "ide.reader.view_section(1)"
   ]
  },
  {
   "cell_type": "code",
   "execution_count": 0,
   "metadata": {},
   "outputs": [],
   "source": [
    "# type&run the above example/exercise in this cell"
   ]
  },
  {
   "cell_type": "code",
   "execution_count": 0,
   "metadata": {},
   "outputs": [],
   "source": [
    "# run to read the next section\n",
    "ide.reader.view_section(3)"
   ]
  },
  {
   "cell_type": "code",
   "execution_count": 0,
   "metadata": {},
   "outputs": [],
   "source": [
    "import matplotlib.pyplot as plt\n",
    "import matplotlib.image as mpimg\n",
    "import numpy as np\n",
    "import LessonUtil as Util\n",
    "\n",
    "class RCImage(object):\n",
    "    pass\n",
    "    \n",
    "def test_image():\n",
    "    fn = 'fun.npy'\n",
    "    path = Util.path_for_data(fn)\n",
    "    np_image = RCImage(path)\n",
    "    print(np_image.width, np_image.height)\n",
    "    print(np_image)\n",
    "\n",
    "test_image()"
   ]
  },
  {
   "cell_type": "code",
   "execution_count": 0,
   "metadata": {},
   "outputs": [],
   "source": [
    "# run to read the next section\n",
    "ide.reader.view_section(5)"
   ]
  },
  {
   "cell_type": "code",
   "execution_count": 0,
   "metadata": {},
   "outputs": [],
   "source": [
    "# test it again\n",
    "test_image()"
   ]
  },
  {
   "cell_type": "code",
   "execution_count": 0,
   "metadata": {},
   "outputs": [],
   "source": [
    "# run to read the next section\n",
    "ide.reader.view_section(7)"
   ]
  },
  {
   "cell_type": "code",
   "execution_count": 0,
   "metadata": {},
   "outputs": [],
   "source": [
    "def test_image_pixels():\n",
    "    fn = 'fun.npy'\n",
    "    path = Util.path_for_data(fn)\n",
    "    np_image = RCImage(path)\n",
    "    pixel = np_image.get_pixel(225, 285)\n",
    "    print(pixel)\n",
    "test_image_pixels()"
   ]
  },
  {
   "cell_type": "code",
   "execution_count": 0,
   "metadata": {},
   "outputs": [],
   "source": [
    "# run to read the next section\n",
    "ide.reader.view_section(9)"
   ]
  },
  {
   "cell_type": "markdown",
   "metadata": {},
   "source": [
    "# Image Convolution"
   ]
  },
  {
   "cell_type": "code",
   "execution_count": 0,
   "metadata": {},
   "outputs": [],
   "source": [
    "# run to read the next section\n",
    "ide.reader.view_section(10)"
   ]
  },
  {
   "cell_type": "code",
   "execution_count": 0,
   "metadata": {},
   "outputs": [],
   "source": [
    "# 4x4x3 matrix\n",
    "matrix = np.array([\n",
    "  # red         green      blue\n",
    " [[0.8980392,  0.78431374, 0.5647059 ],\n",
    "  [0.8745098,  0.7529412,  0.5058824 ],\n",
    "  [0.8901961,  0.7764706,  0.5137255 ],\n",
    "  [0.91764706, 0.80784315, 0.6313726 ]],\n",
    "\n",
    " [[0.89411765, 0.7921569,  0.6039216 ],\n",
    "  [0.9019608 , 0.8039216,  0.5529412 ],\n",
    "  [0.89411765, 0.7764706,  0.47058824],\n",
    "  [0.92156863, 0.8039216,  0.5568628 ]],\n",
    "\n",
    " [[0.8666667,  0.7764706,  0.5294118 ],\n",
    "  [0.9411765,  0.8392157,  0.6156863 ],\n",
    "  [0.9254902,  0.8039216,  0.5882353 ],\n",
    "  [0.9098039,  0.7921569,  0.5254902 ]],\n",
    "\n",
    " [[0.92156863, 0.81960785, 0.5882353 ],\n",
    "  [0.91764706, 0.7882353,  0.5372549 ],\n",
    "  [0.9372549,  0.83137256, 0.6117647 ],\n",
    "  [0.9254902,  0.8117647,  0.5882353 ]]])\n",
    "  \n",
    "def test_kernel():\n",
    "   # print(matrix.shape) # 4,4,3\n",
    "   kernel = RGBImageKernel()\n",
    "   v = kernel.apply(matrix)  \n",
    "   # this is the answer\n",
    "   ans = (0.90857843625, 0.7975490375, 0.5615196275000001)\n",
    "   print(np.allclose(v, ans))"
   ]
  },
  {
   "cell_type": "code",
   "execution_count": 0,
   "metadata": {},
   "outputs": [],
   "source": [
    "# run to read the next section\n",
    "ide.reader.view_section(12)"
   ]
  },
  {
   "cell_type": "code",
   "execution_count": 0,
   "metadata": {},
   "outputs": [],
   "source": [
    "# type&run the above example/exercise in this cell"
   ]
  },
  {
   "cell_type": "code",
   "execution_count": 0,
   "metadata": {},
   "outputs": [],
   "source": [
    "# run to read the next section\n",
    "ide.reader.view_section(14)"
   ]
  },
  {
   "cell_type": "code",
   "execution_count": 0,
   "metadata": {},
   "outputs": [],
   "source": [
    "def create_compressed_image():\n",
    "\n",
    "    # show the original\n",
    "    fn = 'fun.npy'\n",
    "    path = Util.path_for_data(fn)\n",
    "    np_image = RCImage(path)\n",
    "    ig = np_image.display()\n",
    "    \n",
    "    # create an effect\n",
    "    kernel = RGBImageKernel()\n",
    "    pix = np_image.apply(kernel, size=16)\n",
    "    \n",
    "    # use the result as a new image to show !!\n",
    "    b_img = RCImage(img_data=pix)\n",
    "    ig = b_img.display()"
   ]
  },
  {
   "cell_type": "code",
   "execution_count": 0,
   "metadata": {},
   "outputs": [],
   "source": [
    "# run to read the next section\n",
    "ide.reader.view_section(16)"
   ]
  },
  {
   "cell_type": "code",
   "execution_count": 0,
   "metadata": {},
   "outputs": [],
   "source": [
    "import matplotlib.patches as patches\n",
    "\n",
    "\n",
    "def demo_convolution(window):\n",
    "\n",
    "  # this kernel creates an 'average'\n",
    "  kernel = np.ones((4,4)) * 1/4\n",
    "\n",
    "  # matrix multiplication \n",
    "  out = window * kernel\n",
    "  # sum up the r,g,b,alpha\n",
    "  ave_pixel = np.sum(out, axis=0)\n",
    "\n",
    "  # print(kernel)\n",
    "  # print(window)\n",
    "  # print(out)\n",
    "  # print(ave_pixel)\n",
    "\n",
    "  # 'plot' the results\n",
    "  fig, ax = plt.subplots(figsize=(4, 4))\n",
    "  ax.imshow([[r] for r in window]) \n",
    "  ax.add_patch(patches.Rectangle((0, -0.5),0.5,4.0, facecolor = ave_pixel))\n",
    "  ax.xaxis.set_visible(False) \n",
    "  ax.yaxis.set_visible(False)\n",
    "  ax.set_frame_on(False)\n",
    "  \n",
    "four_colors = np.array([\n",
    "  [0.4980392,  0.78431374, 0.5647059, 1.0], \n",
    "  [0.6745098,  0.1529412,  0.9058824, 1.0],\n",
    "  [0.8901961,  0.5764706,  0.0137255, 1.0],\n",
    "  [0.41764706, 0.40784315, 0.4313726, 1.0]])\n",
    "\n",
    "blue_window = np.array([\n",
    "  [0,  0,  1, 1.0],                   # blue\n",
    "  [0,  0,  1, 1.0],\n",
    "  [135/255,  206/255,  235/255, 1.0], # sky-blue\n",
    "  [135/255,  206/255,  235/255, 1.0]])\n",
    "\n",
    "demo_convolution(blue_window)\n",
    "demo_convolution(four_colors)"
   ]
  },
  {
   "cell_type": "markdown",
   "metadata": {},
   "source": [
    "# Test and Submit"
   ]
  },
  {
   "cell_type": "code",
   "execution_count": 0,
   "metadata": {},
   "outputs": [],
   "source": [
    "# run to read the next section\n",
    "ide.reader.view_section(18)"
   ]
  },
  {
   "cell_type": "code",
   "execution_count": 0,
   "metadata": {},
   "outputs": [],
   "source": [
    "# print(ide.tester.test_notebook()) \n",
    "# print(ide.tester.test_notebook(verbose=True)) \n",
    "\n",
    "# once you are ready -- run this \n",
    "# ide.tester.download_solution()"
   ]
  }
 ],
 "metadata": {
  "colab": {
   "collapsed_sections": [],
   "name": "Manipulating Image Data",
   "provenance": []
  },
  "kernelspec": {
   "display_name": "Python 3",
   "name": "python3"
  },
  "language": "python",
  "story": {
   "auth_token": "Mf5O2mAcq-IaPbDxU0YkANUbIFXZL__BXu4wbeJg-otNhjTyUt3Nz3F2DoWwopCp",
   "authorship_tag": "AB",
   "chapters": 20,
   "name": "Manipulating Image Data",
   "parser": {},
   "root": "https://raw.githubusercontent.com/habermanUIUC/CodeStoryLessons/main/lessons",
   "tag": "dmap:projects:image_compress"
  }
 },
 "nbformat": 4,
 "nbformat_minor": 4
}
