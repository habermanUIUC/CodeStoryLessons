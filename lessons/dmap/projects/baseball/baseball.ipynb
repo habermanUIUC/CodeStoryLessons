{
 "cells": [
  {
   "cell_type": "markdown",
   "metadata": {},
   "source": [
    "# Data, Machines and the 🐍 \n",
    "<img src=\"https://raw.githubusercontent.com/habermanUIUC/CodeStoryLessons/main/lessons/dmap/projects/baseball/html/section00.png\" align=\"left\"/>"
   ]
  },
  {
   "cell_type": "markdown",
   "metadata": {},
   "source": [
    "<a id=\"install\"></a>\n",
    "## Notebook Preparation for Lesson 1•2•3\n",
    "Each lesson will start with a similar template (given in the course schedule):  \n",
    "1. **save** to your google drive (copy to drive)<br/><img src=\"https://raw.githubusercontent.com/habermanUIUC/CodeStoryLessons/main/assets/images/colab/copy-to-drive.png\"/>\n",
    "2. **update** the NET_ID to be your netID (no need to include @illinois.edu)\n",
    "3. **run** the next cell to install the IDE. <img src=\"https://raw.githubusercontent.com/habermanUIUC/CodeStoryLessons/main/assets/images/colab/play-button.png\"/>"
   ]
  },
  {
   "cell_type": "code",
   "execution_count": 0,
   "metadata": {},
   "outputs": [],
   "source": [
    "LESSON_ID = 'dmap:projects:baseball'   # keep this as is\n",
    "NET_ID    = 'CHANGE_ME' # CHANGE_ME to your netID (keep the quotes)\n",
    "\n",
    "def install_ide(net_id, lesson_id):\n",
    "  import sys\n",
    "  if 'codestories' not in sys.modules:\n",
    "      print('installing modules')\n",
    "      !pip install git+https://mehaberman@bitbucket.org/mehaberman/codestories.git --upgrade &> install.log\n",
    "  \n",
    "  from codestories.cs.CodeStories import CodeStory\n",
    "  return CodeStory(net_id, lesson_id)\n",
    "\n",
    "ide = install_ide(NET_ID, LESSON_ID)\n",
    "print(ide.welcome())"
   ]
  },
  {
   "cell_type": "markdown",
   "metadata": {},
   "source": [
    "# Lesson Sports Analytics\n",
    "(hit ▶ to read the first part of the lesson️)"
   ]
  },
  {
   "cell_type": "code",
   "execution_count": 0,
   "metadata": {},
   "outputs": [],
   "source": [
    "# run to read the next section\n",
    "ide.reader.view_section(1)"
   ]
  },
  {
   "cell_type": "markdown",
   "metadata": {},
   "source": [
    "# Lesson Assignment"
   ]
  },
  {
   "cell_type": "code",
   "execution_count": 0,
   "metadata": {},
   "outputs": [],
   "source": [
    "# run to read the next section\n",
    "ide.reader.view_section(2)"
   ]
  },
  {
   "cell_type": "code",
   "execution_count": 0,
   "metadata": {},
   "outputs": [],
   "source": [
    "import pandas as pd\n",
    "import numpy as np\n",
    "import matplotlib\n",
    "import matplotlib.pyplot as plt\n",
    "\n",
    "# upload the data from baseball savant \n",
    "def upload_data():\n",
    "  from google.colab import files\n",
    "  files.upload()\n",
    "\n",
    "# upload_data()"
   ]
  },
  {
   "cell_type": "code",
   "execution_count": 0,
   "metadata": {},
   "outputs": [],
   "source": [
    "# run to read the next section\n",
    "ide.reader.view_section(4)"
   ]
  },
  {
   "cell_type": "code",
   "execution_count": 0,
   "metadata": {},
   "outputs": [],
   "source": [
    "def load_data(filename):\n",
    "\n",
    "    import LessonUtil as Util\n",
    "    import os\n",
    "   \n",
    "    if not os.path.exists(filename):\n",
    "        filename = Util.path_for_data(filename)\n",
    "      \n",
    "    # load filename into pandas\n",
    "    # return the dataframe\n",
    "    return None\n",
    "\n",
    "def print_pitch_counts(df):\n",
    "    # print pitch counts\n",
    "    # any format will do but the easiest is just\n",
    "    # to print out the result of the pandas operation\n",
    "    # it should print out the pitch type (e.g. FF) and the count\n",
    "    return None\n",
    "    \n",
    "def step2(fn):\n",
    "    df = load_data(fn)\n",
    "    print_pitch_counts(df)\n",
    "    \n",
    "# be sure to upload the file!\n",
    "step2('./savant_data.csv')"
   ]
  },
  {
   "cell_type": "code",
   "execution_count": 0,
   "metadata": {},
   "outputs": [],
   "source": [
    "# run to read the next section\n",
    "ide.reader.view_section(6)"
   ]
  },
  {
   "cell_type": "code",
   "execution_count": 0,
   "metadata": {},
   "outputs": [],
   "source": [
    "def build_color_map():\n",
    "  # return a simple python dictionary\n",
    "  # with the following mappings\n",
    "  # CH: green (changeup)\n",
    "  # CU: skyblue (curve)\n",
    "  # FF: red (4 seam fastball)\n",
    "  # SL: orange (slider)\n",
    "  return {} \n",
    "\n",
    "def plot_pitch_location(df, cmap):\n",
    "   # keep this line as is\n",
    "   fig, axes = plt.subplots(nrows=1, ncols=1, figsize=(10,10)) \n",
    "   \n",
    "   # be sure to drop any rows that have no data (e.g. use panda's dropna())\n",
    "   \n",
    "   return fig"
   ]
  },
  {
   "cell_type": "code",
   "execution_count": 0,
   "metadata": {},
   "outputs": [],
   "source": [
    "# run to read the next section\n",
    "ide.reader.view_section(8)"
   ]
  },
  {
   "cell_type": "code",
   "execution_count": 0,
   "metadata": {},
   "outputs": [],
   "source": [
    "def build_listed_color_map():\n",
    "  # implement me\n",
    "  return None\n",
    "  # return matplotlib.colors.ListedColormap( ... )\n",
    "\n",
    "def plot_pitch_movement(df, lcmap):\n",
    "    # keep this as is\n",
    "    fig, axes = plt.subplots(nrows=1, ncols=1, figsize=(10,10))\n",
    "    \n",
    "    # build the plot\n",
    "    \n",
    "    return fig\n",
    "    \n",
    "def step4(fn):\n",
    "    df = load_data(fn)\n",
    "    cmap = build_listed_color_map()\n",
    "    fig = plot_pitch_movement(df, cmap)"
   ]
  },
  {
   "cell_type": "code",
   "execution_count": 0,
   "metadata": {},
   "outputs": [],
   "source": [
    "# run to read the next section\n",
    "ide.reader.view_section(10)"
   ]
  },
  {
   "cell_type": "markdown",
   "metadata": {},
   "source": [
    "# Test and Submit"
   ]
  },
  {
   "cell_type": "code",
   "execution_count": 0,
   "metadata": {},
   "outputs": [],
   "source": [
    "# run to read the next section\n",
    "ide.reader.view_section(11)"
   ]
  },
  {
   "cell_type": "code",
   "execution_count": 0,
   "metadata": {},
   "outputs": [],
   "source": [
    "# print(ide.tester.test_notebook()) \n",
    "# print(ide.tester.test_notebook(verbose=True)) \n",
    "\n",
    "# once you are ready -- run this \n",
    "# ide.tester.download_solution()"
   ]
  }
 ],
 "metadata": {
  "colab": {
   "collapsed_sections": [],
   "name": "Sports Analytics",
   "provenance": []
  },
  "kernelspec": {
   "display_name": "Python 3",
   "name": "python3"
  },
  "language": "python",
  "story": {
   "auth_token": "Mf5O2mAcq-IaPbDxU0YkAE2NGgJfNhh9RrTrWGePBHc=",
   "authorship_tag": "AB",
   "chapters": 13,
   "name": "Sports Analytics",
   "parser": {},
   "root": "https://raw.githubusercontent.com/habermanUIUC/CodeStoryLessons/main/lessons",
   "tag": "dmap:projects:baseball"
  }
 },
 "nbformat": 4,
 "nbformat_minor": 4
}
