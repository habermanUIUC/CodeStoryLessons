{
 "cells": [
  {
   "cell_type": "markdown",
   "metadata": {},
   "source": [
    "# Data, Machines and the 🐍 \n",
    "<img src=\"https://raw.githubusercontent.com/habermanUIUC/CodeStoryLessons/main/lessons/dmap/projects/paint_by_k/html/section00.png\" align=\"left\"/>"
   ]
  },
  {
   "cell_type": "markdown",
   "metadata": {},
   "source": [
    "<a id=\"install\"></a>\n",
    "## Notebook Preparation for Lesson 1•2•3\n",
    "Each lesson will start with a similar template (given in the course schedule):  \n",
    "1. **save** to your google drive (copy to drive)<br/><img src=\"https://raw.githubusercontent.com/habermanUIUC/CodeStoryLessons/main/assets/images/colab/copy-to-drive.png\"/>\n",
    "2. **update** the NET_ID to be your netID (no need to include @illinois.edu)\n",
    "3. **run** the next cell to install the IDE. <img src=\"https://raw.githubusercontent.com/habermanUIUC/CodeStoryLessons/main/assets/images/colab/play-button.png\"/>"
   ]
  },
  {
   "cell_type": "code",
   "execution_count": 0,
   "metadata": {},
   "outputs": [],
   "source": [
    "LESSON_ID = 'dmap:projects:paint_by_k'   # keep this as is\n",
    "NET_ID    = 'CHANGE_ME' # CHANGE_ME to your netID (keep the quotes)\n",
    "\n",
    "def install_ide(net_id, lesson_id):\n",
    "  import sys\n",
    "  if 'codestories' not in sys.modules:\n",
    "      print('installing modules')\n",
    "      !pip install git+https://mehaberman@bitbucket.org/mehaberman/codestories.git --upgrade &> install.log\n",
    "  \n",
    "  from codestories.cs.CodeStories import CodeStory\n",
    "  return CodeStory(net_id, lesson_id)\n",
    "\n",
    "ide = install_ide(NET_ID, LESSON_ID)\n",
    "print(ide.welcome())"
   ]
  },
  {
   "cell_type": "markdown",
   "metadata": {},
   "source": [
    "# Lesson Painting by K\n",
    "(hit ▶ to read the first part of the lesson️)"
   ]
  },
  {
   "cell_type": "code",
   "execution_count": 0,
   "metadata": {},
   "outputs": [],
   "source": [
    "# run to read the next section\n",
    "ide.reader.view_section(1)"
   ]
  },
  {
   "cell_type": "markdown",
   "metadata": {},
   "source": [
    "# Color Models and Spaces"
   ]
  },
  {
   "cell_type": "code",
   "execution_count": 0,
   "metadata": {},
   "outputs": [],
   "source": [
    "# run to read the next section\n",
    "ide.reader.view_section(2)"
   ]
  },
  {
   "cell_type": "code",
   "execution_count": 0,
   "metadata": {},
   "outputs": [],
   "source": [
    "#@title Select Colors { run: \"auto\" }\n",
    "import matplotlib.pyplot as plt\n",
    "from matplotlib.patches import Rectangle\n",
    "import numpy as np\n",
    "\n",
    "def color_mixer():\n",
    "  r1 = 255 #@param {type:\"slider\", min:0, max:255, step:1}\n",
    "  g1 = 255 #@param {type:\"slider\", min:0, max:255, step:1}\n",
    "  b1 = 71 #@param {type:\"slider\", min:0, max:255, step:1}\n",
    "  r2 = 255 #@param {type:\"slider\", min:0, max:255, step:1}\n",
    "  g2 = 0 #@param {type:\"slider\", min:0, max:255, step:1}\n",
    "  b2 = 0 #@param {type:\"slider\", min:0, max:255, step:1}\n",
    "\n",
    "  c1 = np.array([r1,g1,b1])/255.0\n",
    "  c2 = np.array([r2,g2,b2])/255.0\n",
    "  c3 = (c1 + c2 )/2\n",
    "  c3 = np.sqrt((c1**2 + c2**2)/2)\n",
    "  fig, axes = plt.subplots(3,1, figsize=(2,6))\n",
    "  fig.subplots_adjust(hspace=0, wspace=0)\n",
    "  for idx, c in enumerate([c1,c2,c3]):\n",
    "    f = np.floor(c*255)\n",
    "    r = Rectangle( (0,0), 25,25, facecolor=c, linewidth=None)\n",
    "    axes[idx].add_patch(r)\n",
    "    axes[idx].set_xticks([])\n",
    "    axes[idx].set_yticks([])\n",
    "    axes[idx].axis('equal')\n",
    "    axes[idx].text(12,12, str(f), color='black',ha='center',va='center')\n",
    "color_mixer()"
   ]
  },
  {
   "cell_type": "code",
   "execution_count": 0,
   "metadata": {},
   "outputs": [],
   "source": [
    "# run to read the next section\n",
    "ide.reader.view_section(4)"
   ]
  },
  {
   "cell_type": "markdown",
   "metadata": {},
   "source": [
    "# Lesson Assignment"
   ]
  },
  {
   "cell_type": "code",
   "execution_count": 0,
   "metadata": {},
   "outputs": [],
   "source": [
    "# run to read the next section\n",
    "ide.reader.view_section(5)"
   ]
  },
  {
   "cell_type": "code",
   "execution_count": 0,
   "metadata": {},
   "outputs": [],
   "source": [
    "class RCImage(object):\n",
    "   # paste your code here"
   ]
  },
  {
   "cell_type": "code",
   "execution_count": 0,
   "metadata": {},
   "outputs": [],
   "source": [
    "# run to read the next section\n",
    "ide.reader.view_section(7)"
   ]
  },
  {
   "cell_type": "code",
   "execution_count": 0,
   "metadata": {},
   "outputs": [],
   "source": [
    "import matplotlib.pyplot as plt\n",
    "import LessonUtil as Util\n",
    "\n",
    "def test_image():\n",
    "    path = Util.path_for_data('cat400Green.png')\n",
    "    \n",
    "    im = plt.imread(path)\n",
    "    my_image = RCImage(img_data=im)\n",
    "    fig = my_image.display()\n",
    "\n",
    "test_image()"
   ]
  },
  {
   "cell_type": "code",
   "execution_count": 0,
   "metadata": {},
   "outputs": [],
   "source": [
    "# run to read the next section\n",
    "ide.reader.view_section(9)"
   ]
  },
  {
   "cell_type": "code",
   "execution_count": 0,
   "metadata": {},
   "outputs": [],
   "source": [
    "from sklearn.cluster import KMeans\n",
    "import numpy as np\n",
    "\n",
    "class ImageCluster(object):\n",
    "    pass"
   ]
  },
  {
   "cell_type": "code",
   "execution_count": 0,
   "metadata": {},
   "outputs": [],
   "source": [
    "# run to read the next section\n",
    "ide.reader.view_section(11)"
   ]
  },
  {
   "cell_type": "code",
   "execution_count": 0,
   "metadata": {},
   "outputs": [],
   "source": [
    "def test_paint():\n",
    "    path = Util.path_for_data('cat400Green.png')\n",
    "    \n",
    "    im = plt.imread(path)\n",
    "    my_image = RCImage(img_data=im)\n",
    "    ic = ImageCluster(my_image)\n",
    "    ic.paint_by_number(8)\n",
    "    \n",
    "    print(len(ic.km.cluster_centers_) == 8)\n",
    "test_paint()"
   ]
  },
  {
   "cell_type": "code",
   "execution_count": 0,
   "metadata": {},
   "outputs": [],
   "source": [
    "# run to read the next section\n",
    "ide.reader.view_section(13)"
   ]
  },
  {
   "cell_type": "code",
   "execution_count": 0,
   "metadata": {},
   "outputs": [],
   "source": [
    "def paint_pipeline(path=None, count=8, figsize=8):\n",
    "\n",
    "    if path is None:\n",
    "        path = Util.path_for_data('cat400Green.png')\n",
    "    \n",
    "    im = plt.imread(path)\n",
    "    my_image = RCImage(img_data=im)\n",
    "    ic = ImageCluster(my_image)\n",
    "    \n",
    "    # build a painting using count colors\n",
    "    ic.paint_by_number(count)\n",
    "    \n",
    "    # display the painting\n",
    "    k_image = ic.build_painting()\n",
    "    painting = RCImage(img_data=k_image)\n",
    "    painting.display(size=figsize)\n",
    "\n",
    "    return ic"
   ]
  },
  {
   "cell_type": "code",
   "execution_count": 0,
   "metadata": {},
   "outputs": [],
   "source": [
    "# run to read the next section\n",
    "ide.reader.view_section(15)"
   ]
  },
  {
   "cell_type": "code",
   "execution_count": 0,
   "metadata": {},
   "outputs": [],
   "source": [
    "def do_upload():\n",
    "  from google.colab import files\n",
    "  output = files.upload()\n",
    "  return list(output.keys())[0]\n",
    "\n",
    "print('File is saved as', do_upload())"
   ]
  },
  {
   "cell_type": "code",
   "execution_count": 0,
   "metadata": {},
   "outputs": [],
   "source": [
    "# run to read the next section\n",
    "ide.reader.view_section(17)"
   ]
  },
  {
   "cell_type": "code",
   "execution_count": 0,
   "metadata": {},
   "outputs": [],
   "source": [
    "paint_pipeline('name-of-upload.png')"
   ]
  },
  {
   "cell_type": "code",
   "execution_count": 0,
   "metadata": {},
   "outputs": [],
   "source": [
    "# run to read the next section\n",
    "ide.reader.view_section(19)"
   ]
  },
  {
   "cell_type": "markdown",
   "metadata": {},
   "source": [
    "# Test and Submit"
   ]
  },
  {
   "cell_type": "code",
   "execution_count": 0,
   "metadata": {},
   "outputs": [],
   "source": [
    "# run to read the next section\n",
    "ide.reader.view_section(20)"
   ]
  },
  {
   "cell_type": "code",
   "execution_count": 0,
   "metadata": {},
   "outputs": [],
   "source": [
    "# print(ide.tester.test_notebook()) \n",
    "# print(ide.tester.test_notebook(verbose=True)) \n",
    "\n",
    "# once you are ready -- run this \n",
    "# ide.tester.download_solution()"
   ]
  }
 ],
 "metadata": {
  "colab": {
   "collapsed_sections": [],
   "name": "Painting by K",
   "provenance": []
  },
  "kernelspec": {
   "display_name": "Python 3",
   "name": "python3"
  },
  "language": "python",
  "story": {
   "auth_token": "Mf5O2mAcq-IaPbDxU0YkAKOxaWsaC9vmPFKzRCnWjZ8=",
   "authorship_tag": "AB",
   "chapters": 22,
   "name": "Painting by K",
   "parser": {},
   "root": "https://raw.githubusercontent.com/habermanUIUC/CodeStoryLessons/main/lessons",
   "tag": "dmap:projects:paint_by_k"
  }
 },
 "nbformat": 4,
 "nbformat_minor": 4
}
