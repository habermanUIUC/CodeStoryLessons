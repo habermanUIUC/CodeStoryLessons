{
 "cells": [
  {
   "cell_type": "markdown",
   "metadata": {},
   "source": [
    "# Data, Machines and the 🐍 \n",
    "<img src=\"https://raw.githubusercontent.com/habermanUIUC/CodeStoryLessons/main/lessons/dmap/mls/linear_regression/html/section00.png\" align=\"left\"/>"
   ]
  },
  {
   "cell_type": "markdown",
   "metadata": {},
   "source": [
    "<a id=\"install\"></a>\n",
    "## Notebook Preparation for Lesson 1•2•3\n",
    "Each lesson will start with a similar template (given in the course schedule):  \n",
    "1. **save** to your google drive (copy to drive)<br/><img src=\"https://raw.githubusercontent.com/habermanUIUC/CodeStoryLessons/main/assets/images/colab/copy-to-drive.png\"/>\n",
    "2. **update** the NET_ID to be your netID (no need to include @illinois.edu)\n",
    "3. **run** the next cell to install the IDE. <img src=\"https://raw.githubusercontent.com/habermanUIUC/CodeStoryLessons/main/assets/images/colab/play-button.png\"/>"
   ]
  },
  {
   "cell_type": "code",
   "execution_count": 0,
   "metadata": {},
   "outputs": [],
   "source": [
    "LESSON_ID = 'dmap:mls:linear_regression'   # keep this as is\n",
    "NET_ID    = 'CHANGE_ME' # CHANGE_ME to your netID (keep the quotes)\n",
    "\n",
    "def install_ide(net_id, lesson_id):\n",
    "  import sys\n",
    "  if 'codestories' not in sys.modules:\n",
    "      print('installing modules')\n",
    "      !pip install git+https://mehaberman@bitbucket.org/mehaberman/codestories.git --upgrade &> install.log\n",
    "  \n",
    "  from codestories.cs.CodeStories import CodeStory\n",
    "  return CodeStory(net_id, lesson_id)\n",
    "\n",
    "ide = install_ide(NET_ID, LESSON_ID)\n",
    "print(ide.welcome())"
   ]
  },
  {
   "cell_type": "markdown",
   "metadata": {},
   "source": [
    "# Lesson Regression\n",
    "(hit ▶ to read the first part of the lesson️)"
   ]
  },
  {
   "cell_type": "code",
   "execution_count": 0,
   "metadata": {},
   "outputs": [],
   "source": [
    "# run to read the next section\n",
    "ide.reader.view_section(1)"
   ]
  },
  {
   "cell_type": "markdown",
   "metadata": {},
   "source": [
    "# A Line, revisited"
   ]
  },
  {
   "cell_type": "code",
   "execution_count": 0,
   "metadata": {},
   "outputs": [],
   "source": [
    "# run to read the next section\n",
    "ide.reader.view_section(2)"
   ]
  },
  {
   "cell_type": "markdown",
   "metadata": {},
   "source": [
    "# A page out of Stats 101 (literally)"
   ]
  },
  {
   "cell_type": "code",
   "execution_count": 0,
   "metadata": {},
   "outputs": [],
   "source": [
    "# run to read the next section\n",
    "ide.reader.view_section(3)"
   ]
  },
  {
   "cell_type": "code",
   "execution_count": 0,
   "metadata": {},
   "outputs": [],
   "source": [
    "import LessonUtil as Util\n",
    "import pandas as pd\n",
    "import numpy as np\n",
    "\n",
    "def xy_from_file(p, x, y, show=False):\n",
    "    df = pd.read_csv(p)\n",
    "    if show:\n",
    "        df['XY'] = df[x] * df[y]\n",
    "        print(df.head())\n",
    "    x_values = df[x].values\n",
    "    y_values = df[y].values\n",
    "    return x_values, y_values\n",
    "\n",
    "xv, yv = xy_from_file(Util.path_for_data('data20-1.csv'), 'Mother', 'Daughter', show=True)"
   ]
  },
  {
   "cell_type": "code",
   "execution_count": 0,
   "metadata": {},
   "outputs": [],
   "source": [
    "# run to read the next section\n",
    "ide.reader.view_section(5)"
   ]
  },
  {
   "cell_type": "code",
   "execution_count": 0,
   "metadata": {},
   "outputs": [],
   "source": [
    "def find_line(x,y):\n",
    "\n",
    "    x_sum  = np.sum(x)             # ∑x\n",
    "    y_sum  = np.sum(y)             # ∑y\n",
    "    xy_sum = np.sum(x * y)         # ∑(xy)\n",
    "  \n",
    "    x2_sum = np.sum(np.square(x))  # ∑(x²)\n",
    "    y2_sum = np.sum(np.square(y))  # ∑(y²)\n",
    "\n",
    "    x_ave  = np.mean(x) \n",
    "    y_ave  = np.mean(y)"
   ]
  },
  {
   "cell_type": "code",
   "execution_count": 0,
   "metadata": {},
   "outputs": [],
   "source": [
    "# run to read the next section\n",
    "ide.reader.view_section(7)"
   ]
  },
  {
   "cell_type": "code",
   "execution_count": 0,
   "metadata": {},
   "outputs": [],
   "source": [
    "xv, yv = xy_from_file(Util.path_for_data('data20-1.csv'), 'Mother', 'Daughter')\n",
    "find_line(xv, yv)"
   ]
  },
  {
   "cell_type": "code",
   "execution_count": 0,
   "metadata": {},
   "outputs": [],
   "source": [
    "# run to read the next section\n",
    "ide.reader.view_section(9)"
   ]
  },
  {
   "cell_type": "markdown",
   "metadata": {},
   "source": [
    "# Exercise"
   ]
  },
  {
   "cell_type": "code",
   "execution_count": 0,
   "metadata": {},
   "outputs": [],
   "source": [
    "# run to read the next section\n",
    "ide.reader.view_section(10)"
   ]
  },
  {
   "cell_type": "code",
   "execution_count": 0,
   "metadata": {},
   "outputs": [],
   "source": [
    "class LinearRegressionOLS(object):\n",
    "   pass"
   ]
  },
  {
   "cell_type": "code",
   "execution_count": 0,
   "metadata": {},
   "outputs": [],
   "source": [
    "# run to read the next section\n",
    "ide.reader.view_section(12)"
   ]
  },
  {
   "cell_type": "code",
   "execution_count": 0,
   "metadata": {},
   "outputs": [],
   "source": [
    "xv, yv = xy_from_file(Util.path_for_data('data20-1.csv'), 'Mother', 'Daughter')\n",
    "stats_line = LinearRegressionOLS(xv, yv)\n",
    "stats_line.display(True)\n",
    "print(stats_line)"
   ]
  },
  {
   "cell_type": "markdown",
   "metadata": {},
   "source": [
    "# Finding the Line"
   ]
  },
  {
   "cell_type": "code",
   "execution_count": 0,
   "metadata": {},
   "outputs": [],
   "source": [
    "# run to read the next section\n",
    "ide.reader.view_section(14)"
   ]
  },
  {
   "cell_type": "markdown",
   "metadata": {},
   "source": [
    "# Welcome, Linear Algebra"
   ]
  },
  {
   "cell_type": "code",
   "execution_count": 0,
   "metadata": {},
   "outputs": [],
   "source": [
    "# run to read the next section\n",
    "ide.reader.view_section(15)"
   ]
  },
  {
   "cell_type": "code",
   "execution_count": 0,
   "metadata": {},
   "outputs": [],
   "source": [
    "xv, yv = xy_from_file(Util.path_for_data('data20-1.csv'), 'Mother', 'Daughter')\n",
    "\n",
    "n = len(xv)\n",
    "ones = np.ones(n)\n",
    "X = np.column_stack( (ones, xv) )\n",
    "print(X)\n",
    "print(X.T)\n",
    "XTX = X.T.dot(X)\n",
    "print(XTX)"
   ]
  },
  {
   "cell_type": "code",
   "execution_count": 0,
   "metadata": {},
   "outputs": [],
   "source": [
    "# run to read the next section\n",
    "ide.reader.view_section(17)"
   ]
  },
  {
   "cell_type": "code",
   "execution_count": 0,
   "metadata": {},
   "outputs": [],
   "source": [
    "XTX_I = np.linalg.inv(XTX)\n",
    "print(XTX_I)\n",
    "\n",
    "# show the identity matrix   \n",
    "print(XTX_I.dot(XTX))"
   ]
  },
  {
   "cell_type": "code",
   "execution_count": 0,
   "metadata": {},
   "outputs": [],
   "source": [
    "# run to read the next section\n",
    "ide.reader.view_section(19)"
   ]
  },
  {
   "cell_type": "code",
   "execution_count": 0,
   "metadata": {},
   "outputs": [],
   "source": [
    "y = np.matrix(yv[:,]).T\n",
    "print(y)\n",
    "print(X.T.dot(y))"
   ]
  },
  {
   "cell_type": "code",
   "execution_count": 0,
   "metadata": {},
   "outputs": [],
   "source": [
    "# run to read the next section\n",
    "ide.reader.view_section(21)"
   ]
  },
  {
   "cell_type": "code",
   "execution_count": 0,
   "metadata": {},
   "outputs": [],
   "source": [
    "A = np.linalg.inv(X.T.dot(X)).dot(X.T).dot(y)\n",
    "print(A)\n",
    "y0    = A[0]\n",
    "slope = A[1]\n",
    "\n",
    "stats_line = LinearRegressionOLS(xv, yv)\n",
    "print(np.isclose(stats_line.slope,slope))\n",
    "print(np.isclose(stats_line.y0,y0))"
   ]
  },
  {
   "cell_type": "code",
   "execution_count": 0,
   "metadata": {},
   "outputs": [],
   "source": [
    "# run to read the next section\n",
    "ide.reader.view_section(23)"
   ]
  },
  {
   "cell_type": "code",
   "execution_count": 0,
   "metadata": {},
   "outputs": [],
   "source": [
    "def numpy_lr(x,y):\n",
    "\n",
    "  import numpy as np\n",
    "  A = np.vstack([x, np.ones(len(x))]).T\n",
    "\n",
    "  # also scipy.linalg.lstsq\n",
    "  p, res, rnk, s = np.linalg.lstsq(A, y, rcond=None)\n",
    "  slope = p[0]\n",
    "  y0    = p[1]\n",
    "  \n",
    "  result = \"y = {:.3f}x + {:.3f}\".format(slope, y0)\n",
    "  print(result)\n",
    "\n",
    "  r2 = 1 - res / np.sum((y - y.mean())**2)\n",
    "  print('r^2', r2[0])\n",
    "  \n",
    "xv, yv = xy_from_file(Util.path_for_data('data20-1.csv'), 'Mother', 'Daughter')\n",
    "numpy_lr(xv,yv)"
   ]
  },
  {
   "cell_type": "code",
   "execution_count": 0,
   "metadata": {},
   "outputs": [],
   "source": [
    "# run to read the next section\n",
    "ide.reader.view_section(25)"
   ]
  },
  {
   "cell_type": "code",
   "execution_count": 0,
   "metadata": {},
   "outputs": [],
   "source": [
    "def scipy_lr(x,y):\n",
    "\n",
    "  from scipy import stats\n",
    "  \n",
    "  slope, y0, r_value, p_value, std_err = stats.linregress(x, y)\n",
    "  \n",
    "  result = \"y = {:.3f}x + {:.3f}\".format(slope, y0)\n",
    "  print(result)\n",
    "  print('r^2', r_value**2)\n",
    "  \n",
    "xv, yv = xy_from_file(Util.path_for_data('data20-1.csv'), 'Mother', 'Daughter')\n",
    "scipy_lr(xv,yv)"
   ]
  },
  {
   "cell_type": "code",
   "execution_count": 0,
   "metadata": {},
   "outputs": [],
   "source": [
    "# run to read the next section\n",
    "ide.reader.view_section(27)"
   ]
  },
  {
   "cell_type": "code",
   "execution_count": 0,
   "metadata": {},
   "outputs": [],
   "source": [
    "def sklearn_lr(x,y):\n",
    "\n",
    "  from sklearn.linear_model import LinearRegression\n",
    "  from sklearn.metrics import r2_score\n",
    "  \n",
    "  lr = LinearRegression().fit(x.reshape(-1, 1), y)\n",
    "  slope = lr.coef_[0]\n",
    "  y0    = lr.intercept_\n",
    "  \n",
    "  result = \"y = {:.3f}x + {:.3f}\".format(slope, y0)\n",
    "  print(result)\n",
    "\n",
    "  y_fit = xv * slope + y0\n",
    "  print('r^2', r2_score(yv, y_fit))\n",
    "\n",
    "xv, yv = xy_from_file(Util.path_for_data('data20-1.csv'), 'Mother', 'Daughter')\n",
    "sklearn_lr(xv,yv)"
   ]
  },
  {
   "cell_type": "code",
   "execution_count": 0,
   "metadata": {},
   "outputs": [],
   "source": [
    "# run to read the next section\n",
    "ide.reader.view_section(29)"
   ]
  },
  {
   "cell_type": "markdown",
   "metadata": {},
   "source": [
    "# Welcome Machine Learning"
   ]
  },
  {
   "cell_type": "code",
   "execution_count": 0,
   "metadata": {},
   "outputs": [],
   "source": [
    "# run to read the next section\n",
    "ide.reader.view_section(30)"
   ]
  },
  {
   "cell_type": "markdown",
   "metadata": {},
   "source": [
    "# Lesson Assignment"
   ]
  },
  {
   "cell_type": "code",
   "execution_count": 0,
   "metadata": {},
   "outputs": [],
   "source": [
    "# run to read the next section\n",
    "ide.reader.view_section(31)"
   ]
  },
  {
   "cell_type": "code",
   "execution_count": 0,
   "metadata": {},
   "outputs": [],
   "source": [
    "import matplotlib.pyplot as plt\n",
    "\n",
    "class LinearRegressionGD(object):\n",
    "\n",
    "    # constructor has two parameters\n",
    "    # xv the vector of x values\n",
    "    # yv the vector of y values\n",
    "    pass"
   ]
  },
  {
   "cell_type": "code",
   "execution_count": 0,
   "metadata": {},
   "outputs": [],
   "source": [
    "# run to read the next section\n",
    "ide.reader.view_section(33)"
   ]
  },
  {
   "cell_type": "markdown",
   "metadata": {},
   "source": [
    "# Test and Submit"
   ]
  },
  {
   "cell_type": "code",
   "execution_count": 0,
   "metadata": {},
   "outputs": [],
   "source": [
    "# run to read the next section\n",
    "ide.reader.view_section(34)"
   ]
  },
  {
   "cell_type": "code",
   "execution_count": 0,
   "metadata": {},
   "outputs": [],
   "source": [
    "# print(ide.tester.test_notebook()) \n",
    "# print(ide.tester.test_notebook(verbose=True)) \n",
    "\n",
    "# once you are ready -- run this \n",
    "# ide.tester.download_solution()"
   ]
  },
  {
   "cell_type": "code",
   "execution_count": 0,
   "metadata": {},
   "outputs": [],
   "source": [
    "# run to read the next section\n",
    "ide.reader.view_section(36)"
   ]
  }
 ],
 "metadata": {
  "colab": {
   "collapsed_sections": [],
   "name": "Regression",
   "provenance": []
  },
  "kernelspec": {
   "display_name": "Python 3",
   "name": "python3"
  },
  "language": "python",
  "story": {
   "auth_token": "9Itv4kTQcmYWwvQxkfwULUOEBUd74Y0mG8cpn1Ui_Hk=",
   "authorship_tag": "AB",
   "chapters": 37,
   "name": "Regression",
   "parser": {},
   "root": "https://raw.githubusercontent.com/habermanUIUC/CodeStoryLessons/main/lessons",
   "tag": "dmap:mls:linear_regression"
  }
 },
 "nbformat": 4,
 "nbformat_minor": 4
}
