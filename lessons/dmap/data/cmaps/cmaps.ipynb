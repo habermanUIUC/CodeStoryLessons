{
 "cells": [
  {
   "cell_type": "markdown",
   "metadata": {},
   "source": [
    "# Data, Machines and the 🐍 \n",
    "<img src=\"https://raw.githubusercontent.com/habermanUIUC/CodeStoryLessons/main/lessons/dmap/data/cmaps/html/section00.png\" align=\"left\"/>"
   ]
  },
  {
   "cell_type": "markdown",
   "metadata": {},
   "source": [
    "<a id=\"install\"></a>\n",
    "## Notebook Preparation for Lesson 1•2•3\n",
    "Each lesson will start with a similar template (given in the course schedule):  \n",
    "1. **save** to your google drive (copy to drive)<br/><img src=\"https://raw.githubusercontent.com/habermanUIUC/CodeStoryLessons/main/assets/images/colab/copy-to-drive.png\"/>\n",
    "2. **update** the NET_ID to be your netID (no need to include @illinois.edu)\n",
    "3. **run** the next cell to install the IDE. <img src=\"https://raw.githubusercontent.com/habermanUIUC/CodeStoryLessons/main/assets/images/colab/play-button.png\"/>"
   ]
  },
  {
   "cell_type": "code",
   "execution_count": 0,
   "metadata": {},
   "outputs": [],
   "source": [
    "LESSON_ID = 'dmap:data:cmaps'   # keep this as is\n",
    "NET_ID    = 'CHANGE_ME' # CHANGE_ME to your netID (keep the quotes)\n",
    "\n",
    "def install_ide(net_id, lesson_id):\n",
    "  import sys\n",
    "  if 'codestories' not in sys.modules:\n",
    "      print('installing modules')\n",
    "      !pip install git+https://mehaberman@bitbucket.org/mehaberman/codestories.git --upgrade &> install.log\n",
    "  \n",
    "  from codestories.cs.CodeStories import CodeStory\n",
    "  return CodeStory(net_id, lesson_id)\n",
    "\n",
    "ide = install_ide(NET_ID, LESSON_ID)\n",
    "print(ide.welcome())"
   ]
  },
  {
   "cell_type": "markdown",
   "metadata": {},
   "source": [
    "# Lesson Color Maps\n",
    "(hit ▶ to read the first part of the lesson️)"
   ]
  },
  {
   "cell_type": "code",
   "execution_count": 0,
   "metadata": {},
   "outputs": [],
   "source": [
    "# run to read the next section\n",
    "ide.reader.view_section(1)"
   ]
  },
  {
   "cell_type": "code",
   "execution_count": 0,
   "metadata": {},
   "outputs": [],
   "source": [
    "import matplotlib\n",
    "import matplotlib.pyplot as plt\n",
    "from matplotlib import cm\n",
    "import numpy as np\n",
    "from LessonUtil import RandomData, RandomPetData\n",
    "\n",
    "def colormap_scatterplot(data, cm):\n",
    "  fig, axes = plt.subplots()\n",
    "  axes.scatter(data.x, data.y, s=50, c=data.n, cmap=cm)\n",
    "  return fig\n",
    "\n",
    "def colormap_lineplot(data, cm):\n",
    "  fig, axes = plt.subplots()\n",
    "  axes.scatter(data.n, data.n, s=50, c=data.n, cmap=cm)\n",
    "  return fig\n",
    "\n",
    "from matplotlib import cm\n",
    "colormap = cm.get_cmap('Greens')  \n",
    "colormap = cm.get_cmap('seismic') # run, then comment this line out \n",
    "\n",
    "data = RandomData(200)\n",
    "f = colormap_scatterplot(data, colormap)\n",
    "f = colormap_lineplot(data, colormap)"
   ]
  },
  {
   "cell_type": "code",
   "execution_count": 0,
   "metadata": {},
   "outputs": [],
   "source": [
    "# run to read the next section\n",
    "ide.reader.view_section(3)"
   ]
  },
  {
   "cell_type": "code",
   "execution_count": 0,
   "metadata": {},
   "outputs": [],
   "source": [
    "colors = ['#7fc97f', '#beaed4','#fdc086', '#ffff99']\n",
    "colormap = matplotlib.colors.ListedColormap(colors)\n",
    "\n",
    "f = colormap_scatterplot(data, colormap)\n",
    "f = colormap_lineplot(data, colormap)"
   ]
  },
  {
   "cell_type": "code",
   "execution_count": 0,
   "metadata": {},
   "outputs": [],
   "source": [
    "# run to read the next section\n",
    "ide.reader.view_section(5)"
   ]
  },
  {
   "cell_type": "markdown",
   "metadata": {},
   "source": [
    "# Colormaps and Image Data"
   ]
  },
  {
   "cell_type": "code",
   "execution_count": 0,
   "metadata": {},
   "outputs": [],
   "source": [
    "# run to read the next section\n",
    "ide.reader.view_section(6)"
   ]
  },
  {
   "cell_type": "code",
   "execution_count": 0,
   "metadata": {},
   "outputs": [],
   "source": [
    "from matplotlib.cbook import get_sample_data\n",
    "\n",
    "def show_image():\n",
    "  fo = get_sample_data('grace_hopper.png')\n",
    "  data = plt.imread(fo)\n",
    "  \n",
    "  fig, ax = plt.subplots()\n",
    "  im = ax.imshow(data)\n",
    "\n",
    "show_image()"
   ]
  },
  {
   "cell_type": "code",
   "execution_count": 0,
   "metadata": {},
   "outputs": [],
   "source": [
    "# run to read the next section\n",
    "ide.reader.view_section(8)"
   ]
  },
  {
   "cell_type": "code",
   "execution_count": 0,
   "metadata": {},
   "outputs": [],
   "source": [
    "import numpy as np\n",
    "def heatmap_hp(n=2):\n",
    "  names = [\"harry\", \"ron\", \"hermione\", \"hagrid\",\n",
    "              \"dursley\", \"snape\", \"malfoy\"]\n",
    "  books = [str(i) for i in range(1,8)]\n",
    "\n",
    "  social = np.array([[0.8, 2.4, 2.5, 3.9, 0.0, 4.0, 0.0],\n",
    "                    [2.4, 0.0, 4.0, 1.0, 2.7, 0.0, 0.0],\n",
    "                    [1.1, 2.4, 0.8, 4.3, 1.9, 4.4, 0.0],\n",
    "                    [0.6, 0.0, 0.3, 0.0, 3.1, 0.0, 0.0],\n",
    "                    [0.7, 1.7, 0.6, 2.6, 2.2, 6.2, 0.0],\n",
    "                    [1.3, 1.2, 0.0, 0.0, 0.0, 3.2, 5.1],\n",
    "                    [0.1, 2.0, 0.0, 1.4, 0.0, 1.9, 6.3]])\n",
    " \n",
    "  fig, ax = plt.subplots(figsize=(5,5))\n",
    "  ax.set_xticks(np.arange(len(books)))\n",
    "  ax.set_yticks(np.arange(len(names)))\n",
    "  \n",
    "  ax.set_xticklabels(books)\n",
    "  ax.set_yticklabels(names)  \n",
    "  im = ax.imshow(social)\n",
    "\n",
    "  return fig\n",
    "\n",
    "fig = heatmap_hp()"
   ]
  },
  {
   "cell_type": "code",
   "execution_count": 0,
   "metadata": {},
   "outputs": [],
   "source": [
    "# run to read the next section\n",
    "ide.reader.view_section(10)"
   ]
  },
  {
   "cell_type": "code",
   "execution_count": 0,
   "metadata": {},
   "outputs": [],
   "source": [
    "from matplotlib.ticker import MaxNLocator\n",
    "\n",
    "def heatmap(n=2):\n",
    "  rdata = RandomData(n*n)\n",
    "  square = np.array(rdata.x).reshape(n,n)\n",
    "  fig, ax = plt.subplots()\n",
    "\n",
    "  im = ax.imshow(square, cmap='gist_earth', origin='lower')\n",
    "\n",
    "  # Set major locators on the axis to integer values\n",
    "  ax.yaxis.set_major_locator(MaxNLocator(integer=True))  \n",
    "  ax.xaxis.set_major_locator(MaxNLocator(integer=True)) \n",
    "  return fig\n",
    "\n",
    "fig = heatmap(10)"
   ]
  },
  {
   "cell_type": "code",
   "execution_count": 0,
   "metadata": {},
   "outputs": [],
   "source": [
    "# run to read the next section\n",
    "ide.reader.view_section(12)"
   ]
  },
  {
   "cell_type": "code",
   "execution_count": 0,
   "metadata": {},
   "outputs": [],
   "source": [
    "import numpy as np\n",
    "def plot_heat():\n",
    "\n",
    "  # Mathematical function we need to plot\n",
    "  fn_text = \"$z=(1-x^2+y^3) e^{-(x^2+y^2)/2}$\"\n",
    "  def z_func(x, y):\n",
    "    return (1 - (x ** 2 + y ** 3)) * np.exp(-(x ** 2 + y ** 2) / 2)\n",
    "\n",
    "  # Setting up input values\n",
    "  x = np.arange(-3.0, 3.0, 0.1)\n",
    "  y = np.arange(-3.0, 3.0, 0.1)\n",
    "  X, Y = np.meshgrid(x, y)\n",
    "  \n",
    "  # fun with numpy (calculate all the points)\n",
    "  data = z_func(X, Y)\n",
    "\n",
    "  fig, ax = plt.subplots(figsize=(6,6))\n",
    "  cmap = plt.cm.RdBu\n",
    "  im = ax.imshow(data, cmap=cmap) \n",
    "\n",
    "  ax.set_title(fn_text)\n",
    "  \n",
    "plot_heat()"
   ]
  },
  {
   "cell_type": "code",
   "execution_count": 0,
   "metadata": {},
   "outputs": [],
   "source": [
    "# run to read the next section\n",
    "ide.reader.view_section(14)"
   ]
  },
  {
   "cell_type": "code",
   "execution_count": 0,
   "metadata": {},
   "outputs": [],
   "source": [
    "from matplotlib.cbook import get_sample_data\n",
    "import numpy as np\n",
    "io = get_sample_data('axes_grid/bivariate_normal.npy') # 3.3 , np_load=True)\n",
    "data = np.load(io.name)\n",
    "\n",
    "def bivariate_map(data):\n",
    "  fig, ax = plt.subplots()\n",
    "  im = ax.imshow(data, cmap='gist_earth')  \n",
    "  return fig\n",
    "\n",
    "fig = bivariate_map(data)"
   ]
  },
  {
   "cell_type": "code",
   "execution_count": 0,
   "metadata": {},
   "outputs": [],
   "source": [
    "# run to read the next section\n",
    "ide.reader.view_section(16)"
   ]
  },
  {
   "cell_type": "markdown",
   "metadata": {},
   "source": [
    "# Colormaps and Categorical Data"
   ]
  },
  {
   "cell_type": "code",
   "execution_count": 0,
   "metadata": {},
   "outputs": [],
   "source": [
    "# run to read the next section\n",
    "ide.reader.view_section(17)"
   ]
  },
  {
   "cell_type": "code",
   "execution_count": 0,
   "metadata": {},
   "outputs": [],
   "source": [
    "import pandas as pd\n",
    "\n",
    "def convert_names_to_numbers():\n",
    "  data = RandomPetData(100)\n",
    "  df = pd.DataFrame({'pet': data.pet, 'x': data.x, 'y': data.y})\n",
    "  names = df.pet.unique().tolist()\n",
    "  df['pet_idx'] = df['pet'].apply(lambda col: names.index(col))\n",
    "  return df\n",
    "\n",
    "df = convert_names_to_numbers()\n",
    "print(df.groupby('pet_idx')['pet_idx'].count())"
   ]
  },
  {
   "cell_type": "code",
   "execution_count": 0,
   "metadata": {},
   "outputs": [],
   "source": [
    "# run to read the next section\n",
    "ide.reader.view_section(19)"
   ]
  },
  {
   "cell_type": "code",
   "execution_count": 0,
   "metadata": {},
   "outputs": [],
   "source": [
    "def make_scatter(n=100):\n",
    "\n",
    "  # create data (use RandomPetData)\n",
    "  # create the dataframe\n",
    "  # map the categories to pet_idx attribute\n",
    "  \n",
    "  # build the colormap (use the yellow, green, darkgray, blue from above)\n",
    "  # be sure to use ListedColormap\n",
    "  \n",
    "  # leave this code alone\n",
    "  # only ONE call to scatter\n",
    "  fig, axes = plt.subplots()\n",
    "  paths = axes.scatter(df.x, df.y, c=df.pet_idx, s=50, cmap=cmap, edgecolor='black')\n",
    "  h,values = paths.legend_elements()\n",
    "  axes.legend(handles=h, labels=names)\n",
    "  return fig"
   ]
  },
  {
   "cell_type": "code",
   "execution_count": 0,
   "metadata": {},
   "outputs": [],
   "source": [
    "# run to read the next section\n",
    "ide.reader.view_section(21)"
   ]
  },
  {
   "cell_type": "markdown",
   "metadata": {},
   "source": [
    "# Lesson Assignment"
   ]
  },
  {
   "cell_type": "code",
   "execution_count": 0,
   "metadata": {},
   "outputs": [],
   "source": [
    "# run to read the next section\n",
    "ide.reader.view_section(22)"
   ]
  },
  {
   "cell_type": "code",
   "execution_count": 0,
   "metadata": {},
   "outputs": [],
   "source": [
    "def build_dataframe(data):\n",
    "  return None"
   ]
  },
  {
   "cell_type": "code",
   "execution_count": 0,
   "metadata": {},
   "outputs": [],
   "source": [
    "# run to read the next section\n",
    "ide.reader.view_section(24)"
   ]
  },
  {
   "cell_type": "code",
   "execution_count": 0,
   "metadata": {},
   "outputs": [],
   "source": [
    "def build_colormap():\n",
    "  return"
   ]
  },
  {
   "cell_type": "code",
   "execution_count": 0,
   "metadata": {},
   "outputs": [],
   "source": [
    "# run to read the next section\n",
    "ide.reader.view_section(26)"
   ]
  },
  {
   "cell_type": "code",
   "execution_count": 0,
   "metadata": {},
   "outputs": [],
   "source": [
    "def build_barchart(df, cmap):\n",
    "  pass"
   ]
  },
  {
   "cell_type": "code",
   "execution_count": 0,
   "metadata": {},
   "outputs": [],
   "source": [
    "# run to read the next section\n",
    "ide.reader.view_section(28)"
   ]
  },
  {
   "cell_type": "markdown",
   "metadata": {},
   "source": [
    "# Test and Submit"
   ]
  },
  {
   "cell_type": "code",
   "execution_count": 0,
   "metadata": {},
   "outputs": [],
   "source": [
    "# run to read the next section\n",
    "ide.reader.view_section(29)"
   ]
  },
  {
   "cell_type": "code",
   "execution_count": 0,
   "metadata": {},
   "outputs": [],
   "source": [
    "# print(ide.tester.test_notebook()) \n",
    "print(ide.tester.test_notebook(verbose=True)) \n",
    "\n",
    "# once you are ready -- run this \n",
    "# be sure to name the download it solution.py \n",
    "# ide.tester.download_solution()"
   ]
  }
 ],
 "metadata": {
  "colab": {
   "collapsed_sections": [],
   "name": "Color Maps",
   "provenance": []
  },
  "kernelspec": {
   "display_name": "Python 3",
   "name": "python3"
  },
  "language": "python",
  "story": {
   "auth_token": "6zbRZ9vT50mA3SFEybn7-UVlcTmiEzJwTGqiwALe7VU=",
   "authorship_tag": "AB",
   "chapters": 31,
   "name": "Color Maps",
   "parser": {},
   "root": "https://raw.githubusercontent.com/habermanUIUC/CodeStoryLessons/main/lessons",
   "tag": "dmap:data:cmaps"
  }
 },
 "nbformat": 4,
 "nbformat_minor": 4
}
