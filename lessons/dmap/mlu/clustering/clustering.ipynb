{
 "cells": [
  {
   "cell_type": "markdown",
   "metadata": {},
   "source": [
    "# Data, Machines and the 🐍 \n",
    "<img src=\"https://raw.githubusercontent.com/habermanUIUC/CodeStoryLessons/main/lessons/dmap/mlu/clustering/html/section00.png\" align=\"left\"/>"
   ]
  },
  {
   "cell_type": "markdown",
   "metadata": {},
   "source": [
    "<a id=\"install\"></a>\n",
    "## Notebook Preparation for Lesson 1•2•3\n",
    "Each lesson will start with a similar template (given in the course schedule):  \n",
    "1. **save** to your google drive (copy to drive)<br/><img src=\"https://raw.githubusercontent.com/habermanUIUC/CodeStoryLessons/main/assets/images/colab/copy-to-drive.png\"/>\n",
    "2. **update** the NET_ID to be your netID (no need to include @illinois.edu)\n",
    "3. **run** the next cell to install the IDE. <img src=\"https://raw.githubusercontent.com/habermanUIUC/CodeStoryLessons/main/assets/images/colab/play-button.png\"/>"
   ]
  },
  {
   "cell_type": "code",
   "execution_count": 0,
   "metadata": {},
   "outputs": [],
   "source": [
    "LESSON_ID = 'dmap:mlu:clustering'   # keep this as is\n",
    "NET_ID    = 'CHANGE_ME' # CHANGE_ME to your netID (keep the quotes)\n",
    "\n",
    "def install_ide(net_id, lesson_id):\n",
    "  import sys\n",
    "  if 'codestories' not in sys.modules:\n",
    "      print('installing modules')\n",
    "      !pip install git+https://mehaberman@bitbucket.org/mehaberman/codestories.git --upgrade &> install.log\n",
    "  \n",
    "  from codestories.cs.CodeStories import CodeStory\n",
    "  return CodeStory(net_id, lesson_id)\n",
    "\n",
    "ide = install_ide(NET_ID, LESSON_ID)\n",
    "print(ide.welcome())"
   ]
  },
  {
   "cell_type": "markdown",
   "metadata": {},
   "source": [
    "# Lesson Clustering\n",
    "(hit ▶ to read the first part of the lesson️)"
   ]
  },
  {
   "cell_type": "code",
   "execution_count": 0,
   "metadata": {},
   "outputs": [],
   "source": [
    "# run to read the next section\n",
    "ide.reader.view_section(1)"
   ]
  },
  {
   "cell_type": "markdown",
   "metadata": {},
   "source": [
    "# finding patterns in a sea of data"
   ]
  },
  {
   "cell_type": "code",
   "execution_count": 0,
   "metadata": {},
   "outputs": [],
   "source": [
    "# run to read the next section\n",
    "ide.reader.view_section(2)"
   ]
  },
  {
   "cell_type": "code",
   "execution_count": 0,
   "metadata": {},
   "outputs": [],
   "source": [
    "import numpy as np\n",
    "import matplotlib.pyplot as plt\n",
    "import pandas as pd\n",
    "\n",
    "import LessonUtil as Util\n",
    "\n",
    "pd.set_option('display.max_columns', None)\n",
    "pd.set_option('display.width', 200)\n",
    "\n",
    "def build_dataset():\n",
    "  p = Util.path_for_data('canon.csv')\n",
    "  # Importing the dataset\n",
    "  df = pd.read_csv(p)\n",
    "\n",
    "  keep = ['a', 'b', 'c', 'd', 'e', 'f']\n",
    "\n",
    "  return df[keep]\n",
    "  \n",
    "data_df = build_dataset()\n",
    "print(data_df.head(5))"
   ]
  },
  {
   "cell_type": "code",
   "execution_count": 0,
   "metadata": {},
   "outputs": [],
   "source": [
    "# run to read the next section\n",
    "ide.reader.view_section(4)"
   ]
  },
  {
   "cell_type": "code",
   "execution_count": 0,
   "metadata": {},
   "outputs": [],
   "source": [
    "def pair_wise_plots(df):\n",
    "  axes = pd.plotting.scatter_matrix(df, figsize=(12,12))\n",
    "\n",
    "pair_wise_plots(data_df)"
   ]
  },
  {
   "cell_type": "code",
   "execution_count": 0,
   "metadata": {},
   "outputs": [],
   "source": [
    "# run to read the next section\n",
    "ide.reader.view_section(6)"
   ]
  },
  {
   "cell_type": "markdown",
   "metadata": {},
   "source": [
    "# An Algorithmic Overview"
   ]
  },
  {
   "cell_type": "code",
   "execution_count": 0,
   "metadata": {},
   "outputs": [],
   "source": [
    "# run to read the next section\n",
    "ide.reader.view_section(7)"
   ]
  },
  {
   "cell_type": "markdown",
   "metadata": {},
   "source": [
    "# K-Means Clustering"
   ]
  },
  {
   "cell_type": "code",
   "execution_count": 0,
   "metadata": {},
   "outputs": [],
   "source": [
    "# run to read the next section\n",
    "ide.reader.view_section(8)"
   ]
  },
  {
   "cell_type": "code",
   "execution_count": 0,
   "metadata": {},
   "outputs": [],
   "source": [
    "def build_dataset(as_is=False):\n",
    "  p = Util.path_for_data('clean_cars.csv')\n",
    "  # Importing the dataset\n",
    "  df = pd.read_csv(p)\n",
    "  if as_is:\n",
    "    return df\n",
    "\n",
    "  drop = ['brand', 'year'] #, 'cylinders']\n",
    "  return df[df.columns.difference(drop)]\n",
    "  \n",
    "data_df = build_dataset()\n",
    "print(data_df.head(5))"
   ]
  },
  {
   "cell_type": "code",
   "execution_count": 0,
   "metadata": {},
   "outputs": [],
   "source": [
    "# run to read the next section\n",
    "ide.reader.view_section(10)"
   ]
  },
  {
   "cell_type": "code",
   "execution_count": 0,
   "metadata": {},
   "outputs": [],
   "source": [
    "def convert_to_points(df):\n",
    "    p = []\n",
    "    for c in df.columns:\n",
    "      pc = df[c]\n",
    "      p.append(pc)\n",
    "    \n",
    "    points = np.stack(p, axis=1)\n",
    "    return points\n",
    "\n",
    "points = convert_to_points(data_df)\n",
    "print(data_df.head(5))\n",
    "print(points[0:5,:])"
   ]
  },
  {
   "cell_type": "code",
   "execution_count": 0,
   "metadata": {},
   "outputs": [],
   "source": [
    "# run to read the next section\n",
    "ide.reader.view_section(12)"
   ]
  },
  {
   "cell_type": "code",
   "execution_count": 0,
   "metadata": {},
   "outputs": [],
   "source": [
    "import numpy as np\n",
    "from sklearn.cluster import KMeans\n",
    "import matplotlib\n",
    "import matplotlib.pyplot as plt\n",
    "\n",
    "def cluster_points(points, K=6):\n",
    "    km = KMeans(n_clusters=K,    # how many clusters\n",
    "                max_iter=300,    # iterate 300 times, for a 'single run'\n",
    "                n_init=100,      # run it 100 times, picking the best one\n",
    "                init='random',   # pick random centers (provide your own, 'k-means++')\n",
    "                random_state=42, # pick None to be different each time\n",
    "                tol=0.0001)      # when to declare convergence between two consecutive iterations\n",
    "    \n",
    "    # points needs to be like\n",
    "    # [x1,y1], [x2, y2], etc\n",
    "    \n",
    "    # build the model\n",
    "    km.fit(points)\n",
    "\n",
    "    centers = km.cluster_centers_\n",
    "    print(centers)\n",
    "    \n",
    "    # pass the same data through the model, \n",
    "    # predict will assign the point to a label (cluster number)\n",
    "    labels = km.predict(points)\n",
    "    return km, labels\n",
    "    \n",
    "km, labels = cluster_points(points)\n",
    "print(len(km.cluster_centers_), set(labels))"
   ]
  },
  {
   "cell_type": "code",
   "execution_count": 0,
   "metadata": {},
   "outputs": [],
   "source": [
    "# run to read the next section\n",
    "ide.reader.view_section(14)"
   ]
  },
  {
   "cell_type": "code",
   "execution_count": 0,
   "metadata": {},
   "outputs": [],
   "source": [
    "def unclean_data_demo():\n",
    "  p = Util.path_for_data('anon.csv')\n",
    "  tmp_df = pd.read_csv(p)[['a','b','c']]\n",
    "  print(tmp_df.head(5))\n",
    "  km, lbls = cluster_points(tmp_df)\n",
    "  \n",
    "unclean_data_demo()"
   ]
  },
  {
   "cell_type": "code",
   "execution_count": 0,
   "metadata": {},
   "outputs": [],
   "source": [
    "# run to read the next section\n",
    "ide.reader.view_section(16)"
   ]
  },
  {
   "cell_type": "code",
   "execution_count": 0,
   "metadata": {},
   "outputs": [],
   "source": [
    "import matplotlib\n",
    "import matplotlib.pyplot as plt\n",
    "import matplotlib.cm as cm\n",
    "\n",
    "def plot_kmeans(points, centers, labels, x0=0, x1=1, columns=None):\n",
    "    \n",
    "    K = len(centers)\n",
    "    colors=['#a6cee3','#1f78b4','#b2df8a','#33a02c','#fb9a99','#e31a1c','#fdbf6f','#ff7f00','#cab2d6']\n",
    "    cmap = matplotlib.colors.ListedColormap(colors)\n",
    "    if len(colors) <= K:\n",
    "      cmap = cm.Dark2\n",
    "    \n",
    "    fig, axes = plt.subplots(nrows=1, ncols=1, figsize=(6,6))\n",
    "    for c_id in range(0, K):\n",
    "        mask = labels == c_id\n",
    "        c = cmap(c_id)\n",
    "        axes.scatter(points[mask][:, x0], points[mask][:, x1], color=c, s=25)\n",
    "        # mark the center\n",
    "        axes.scatter(centers[c_id, x0], centers[c_id, x1], color=c, s=200, alpha=0.5, edgecolor='black')\n",
    "\n",
    "    if columns is not None:\n",
    "      axes.set_xlabel(columns[x0], fontsize=18)\n",
    "      axes.set_ylabel(columns[x1], fontsize=16)\n",
    "    axes.grid()"
   ]
  },
  {
   "cell_type": "code",
   "execution_count": 0,
   "metadata": {},
   "outputs": [],
   "source": [
    "# run to read the next section\n",
    "ide.reader.view_section(18)"
   ]
  },
  {
   "cell_type": "markdown",
   "metadata": {},
   "source": [
    "# Finding K"
   ]
  },
  {
   "cell_type": "code",
   "execution_count": 0,
   "metadata": {},
   "outputs": [],
   "source": [
    "# run to read the next section\n",
    "ide.reader.view_section(19)"
   ]
  },
  {
   "cell_type": "code",
   "execution_count": 0,
   "metadata": {},
   "outputs": [],
   "source": [
    "def plot_scores(scores, y=\"inertia score\"):\n",
    "    fig, axes = plt.subplots(nrows=1, ncols=1)\n",
    "    axes.plot(scores[:, 0], scores[:, 1], color='blue', marker='x')\n",
    "    axes.set_ylabel(y, fontsize=18)\n",
    "    axes.set_xlabel('K', fontsize=18)\n",
    "\n",
    "def get_inertias(points):\n",
    "  scores = []\n",
    "  for k in range(2, 16):\n",
    "     km, labels = cluster_points(points, K=k)\n",
    "     scores.append((k, km.inertia_))\n",
    "  return np.array(scores)\n",
    "  \n",
    "# be sure to comment this call out, before testing\n",
    "# it will cause a timeout during any submissions\n",
    "inertia_scores = get_inertias(points)\n",
    "plot_scores(inertia_scores)"
   ]
  },
  {
   "cell_type": "code",
   "execution_count": 0,
   "metadata": {},
   "outputs": [],
   "source": [
    "# run to read the next section\n",
    "ide.reader.view_section(21)"
   ]
  },
  {
   "cell_type": "code",
   "execution_count": 0,
   "metadata": {},
   "outputs": [],
   "source": [
    "from sklearn.metrics import silhouette_score\n",
    "\n",
    "def get_silhouette_scores(points):\n",
    "  scores = []\n",
    "  for k in range(2, 16):\n",
    "     km, labels = cluster_points(points, K=k)\n",
    "     s_score = silhouette_score(points,  km.labels_)\n",
    "     scores.append((k, s_score))\n",
    "  return np.array(scores)\n",
    "\n",
    "# be sure to comment this call out, before testing\n",
    "# it will cause a timeout during any submissions\n",
    "sscores = get_silhouette_scores(points)\n",
    "plot_scores(sscores, y='silhouette')"
   ]
  },
  {
   "cell_type": "code",
   "execution_count": 0,
   "metadata": {},
   "outputs": [],
   "source": [
    "# run to read the next section\n",
    "ide.reader.view_section(23)"
   ]
  },
  {
   "cell_type": "code",
   "execution_count": 0,
   "metadata": {},
   "outputs": [],
   "source": [
    "def special_k():\n",
    "    km, labels = cluster_points(points, K=3)\n",
    "    print(len(km.cluster_centers_), set(labels))\n",
    "    plot_kmeans(points, km.cluster_centers_, labels)\n",
    "\n",
    "special_k()"
   ]
  },
  {
   "cell_type": "code",
   "execution_count": 0,
   "metadata": {},
   "outputs": [],
   "source": [
    "# run to read the next section\n",
    "ide.reader.view_section(25)"
   ]
  },
  {
   "cell_type": "markdown",
   "metadata": {},
   "source": [
    "# External Measures for Cluster Evaluation"
   ]
  },
  {
   "cell_type": "code",
   "execution_count": 0,
   "metadata": {},
   "outputs": [],
   "source": [
    "# run to read the next section\n",
    "ide.reader.view_section(26)"
   ]
  },
  {
   "cell_type": "code",
   "execution_count": 0,
   "metadata": {},
   "outputs": [],
   "source": [
    "def get_distributions(df, points, K=3):\n",
    "    km, labels = cluster_points(points, K=K)\n",
    "    centers = km.cluster_centers_\n",
    "\n",
    "    score = [{} for i in range(0, len(centers))]\n",
    "    for idx, cluster_num in enumerate(labels):\n",
    "        predict = cluster_num\n",
    "        actual = df['brand'][idx]\n",
    "\n",
    "        s = score[predict]\n",
    "        v = s.get(actual, 0)\n",
    "        s[actual] = v + 1\n",
    "\n",
    "    return score\n",
    "\n",
    "km, labels = cluster_points(points, K=3)\n",
    "cars_df = build_dataset(as_is=True)\n",
    "print(cars_df.groupby(['brand']).size())\n",
    "print(get_distributions(cars_df, points, K=5))"
   ]
  },
  {
   "cell_type": "code",
   "execution_count": 0,
   "metadata": {},
   "outputs": [],
   "source": [
    "# run to read the next section\n",
    "ide.reader.view_section(28)"
   ]
  },
  {
   "cell_type": "code",
   "execution_count": 0,
   "metadata": {},
   "outputs": [],
   "source": [
    "import sklearn.metrics as metrics\n",
    "labels_true = ['a','a','a',  'b','b','b']\n",
    "labels_pred = [0,0,0, 1,1,1]\n",
    "print(metrics.adjusted_mutual_info_score(labels_true, labels_pred))"
   ]
  },
  {
   "cell_type": "code",
   "execution_count": 0,
   "metadata": {},
   "outputs": [],
   "source": [
    "# run to read the next section\n",
    "ide.reader.view_section(30)"
   ]
  },
  {
   "cell_type": "markdown",
   "metadata": {},
   "source": [
    "# More than one way to cluster"
   ]
  },
  {
   "cell_type": "code",
   "execution_count": 0,
   "metadata": {},
   "outputs": [],
   "source": [
    "# run to read the next section\n",
    "ide.reader.view_section(31)"
   ]
  },
  {
   "cell_type": "markdown",
   "metadata": {},
   "source": [
    "# Lesson Assignment"
   ]
  },
  {
   "cell_type": "code",
   "execution_count": 0,
   "metadata": {},
   "outputs": [],
   "source": [
    "# run to read the next section\n",
    "ide.reader.view_section(32)"
   ]
  },
  {
   "cell_type": "code",
   "execution_count": 0,
   "metadata": {},
   "outputs": [],
   "source": [
    "import LessonUtil as Util\n",
    "import pandas as pd\n",
    "\n",
    "def get_robo_dataset():\n",
    "  path = Util.path_for_data('robo.csv')\n",
    "  df = pd.read_csv(path)\n",
    "  return df\n",
    "\n",
    "pitcher_df = get_robo_dataset()\n",
    "pitcher_df.head()"
   ]
  },
  {
   "cell_type": "code",
   "execution_count": 0,
   "metadata": {},
   "outputs": [],
   "source": [
    "# run to read the next section\n",
    "ide.reader.view_section(34)"
   ]
  },
  {
   "cell_type": "code",
   "execution_count": 0,
   "metadata": {},
   "outputs": [],
   "source": [
    "# type&run the above example/exercise in this cell"
   ]
  },
  {
   "cell_type": "code",
   "execution_count": 0,
   "metadata": {},
   "outputs": [],
   "source": [
    "# run to read the next section\n",
    "ide.reader.view_section(36)"
   ]
  },
  {
   "cell_type": "code",
   "execution_count": 0,
   "metadata": {},
   "outputs": [],
   "source": [
    "class RoboBatter(object):\n",
    "    pass"
   ]
  },
  {
   "cell_type": "code",
   "execution_count": 0,
   "metadata": {},
   "outputs": [],
   "source": [
    "# run to read the next section\n",
    "ide.reader.view_section(38)"
   ]
  },
  {
   "cell_type": "markdown",
   "metadata": {},
   "source": [
    "# Test and Submit"
   ]
  },
  {
   "cell_type": "code",
   "execution_count": 0,
   "metadata": {},
   "outputs": [],
   "source": [
    "# run to read the next section\n",
    "ide.reader.view_section(39)"
   ]
  },
  {
   "cell_type": "code",
   "execution_count": 0,
   "metadata": {},
   "outputs": [],
   "source": [
    "# print(ide.tester.test_notebook()) \n",
    "# print(ide.tester.test_notebook(verbose=True)) \n",
    "\n",
    "# once you are ready -- run this \n",
    "# ide.tester.download_solution()"
   ]
  }
 ],
 "metadata": {
  "colab": {
   "collapsed_sections": [],
   "name": "Clustering",
   "provenance": []
  },
  "kernelspec": {
   "display_name": "Python 3",
   "name": "python3"
  },
  "language": "python",
  "story": {
   "auth_token": "Rzvkny6DpBPX8FeF45XSFHHiXlb_sudmKS03cT-BcxI=",
   "authorship_tag": "AB",
   "chapters": 41,
   "name": "Clustering",
   "parser": {},
   "root": "https://raw.githubusercontent.com/habermanUIUC/CodeStoryLessons/main/lessons",
   "tag": "dmap:mlu:clustering"
  }
 },
 "nbformat": 4,
 "nbformat_minor": 4
}
