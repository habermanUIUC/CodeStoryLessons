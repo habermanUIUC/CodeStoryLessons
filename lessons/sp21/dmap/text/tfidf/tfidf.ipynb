{
 "cells": [
  {
   "cell_type": "markdown",
   "metadata": {},
   "source": [
    "# Data, Machines and the 🐍 \n",
    "<img src=\"https://raw.githubusercontent.com/habermanUIUC/CodeStoryLessons/main/lessons/dmap/text/tfidf/html/section00.png\" align=\"left\"/>"
   ]
  },
  {
   "cell_type": "markdown",
   "metadata": {},
   "source": [
    "<a id=\"install\"></a>\n",
    "## Notebook Preparation for Lesson 1•2•3\n",
    "Each lesson will start with a similar template (given in the course schedule):  \n",
    "1. **save** to your google drive (copy to drive)<br/><img src=\"https://raw.githubusercontent.com/habermanUIUC/CodeStoryLessons/main/assets/images/colab/copy-to-drive.png\"/>\n",
    "2. **update** the NET_ID to be your netID (no need to include @illinois.edu)\n",
    "3. **run** the next cell to install the IDE. <img src=\"https://raw.githubusercontent.com/habermanUIUC/CodeStoryLessons/main/assets/images/colab/play-button.png\"/>"
   ]
  },
  {
   "cell_type": "code",
   "execution_count": 0,
   "metadata": {},
   "outputs": [],
   "source": [
    "LESSON_ID = 'dmap:text:tfidf'   # keep this as is\n",
    "NET_ID    = 'CHANGE_ME' # CHANGE_ME to your netID (keep the quotes)\n",
    "\n",
    "def install_ide(net_id, lesson_id):\n",
    "  import sys\n",
    "  if 'codestories' not in sys.modules:\n",
    "      print('installing modules')\n",
    "      !pip install git+https://mehaberman@bitbucket.org/mehaberman/codestories.git --upgrade &> install.log\n",
    "  \n",
    "  from codestories.cs.CodeStories import CodeStory\n",
    "  return CodeStory(net_id, lesson_id)\n",
    "\n",
    "ide = install_ide(NET_ID, LESSON_ID)\n",
    "print(ide.welcome())"
   ]
  },
  {
   "cell_type": "markdown",
   "metadata": {},
   "source": [
    "# Lesson TF-IDF\n",
    "(hit ▶ to read the first part of the lesson️)"
   ]
  },
  {
   "cell_type": "code",
   "execution_count": 0,
   "metadata": {},
   "outputs": [],
   "source": [
    "# run to read the next section\n",
    "ide.reader.view_section(1)"
   ]
  },
  {
   "cell_type": "code",
   "execution_count": 0,
   "metadata": {},
   "outputs": [],
   "source": [
    "import LessonUtil as Util\n",
    "\n",
    "def get_corpus():\n",
    "\n",
    "    c1 = \"Do you like Green eggs and ham\"\n",
    "    c2 = \"I do not like them Sam I am  I do not like Green eggs and ham\"\n",
    "    c3 = \"Would you like them Here or there\"\n",
    "    c4 = \"I would not like them Here or there I would not like them Anywhere\"\n",
    "    return [c1, c2, c3, c4]\n",
    "    \n",
    "def split_into_tokens(data, normalize=True, min_length=0):\n",
    "\n",
    "   # returns an array of words\n",
    "   # each word is simply a string\n",
    "  \n",
    "   # splits the incoming data (a string) based on white-space\n",
    "   # if normalize is True, normalize the case of the words\n",
    "   \n",
    "   # only return those words/tokens longer than min_length\n",
    "   return []\n",
    "  \n",
    "def test_split():\n",
    "  corpus   = get_corpus()\n",
    "  doc1     = corpus[0]\n",
    "  print(split_into_tokens(doc1))\n",
    "  \n",
    "test_split()\n",
    "\n",
    "# also, use the test framework to test\n",
    "# print(ide.tester.test_function(split_into_tokens))"
   ]
  },
  {
   "cell_type": "code",
   "execution_count": 0,
   "metadata": {},
   "outputs": [],
   "source": [
    "# run to read the next section\n",
    "ide.reader.view_section(3)"
   ]
  },
  {
   "cell_type": "code",
   "execution_count": 0,
   "metadata": {},
   "outputs": [],
   "source": [
    "import collections\n",
    "\n",
    "def build_tf(corpus, min_length=0):\n",
    "\n",
    "   # corpus is a list of documents\n",
    "   # a document is an unparsed string of words\n",
    "   return  None, None\n",
    "   \n",
    "def test_tf():\n",
    "  corpus = get_corpus()\n",
    "  vocab, tf = build_tf(corpus)\n",
    "  print(tf[0]['eggs'])  # 0.143\n",
    "  print(tf[3]['there']) # 0.0714\n",
    "  # see the next section for hints \n",
    "\n",
    "# test_tf()\n",
    "# print(ide.tester.test_function(build_tf))"
   ]
  },
  {
   "cell_type": "code",
   "execution_count": 0,
   "metadata": {},
   "outputs": [],
   "source": [
    "# run to read the next section\n",
    "ide.reader.view_section(5)"
   ]
  },
  {
   "cell_type": "code",
   "execution_count": 0,
   "metadata": {},
   "outputs": [],
   "source": [
    "import math\n",
    "def build_idf(vocabulary, corpus_tf):\n",
    "\n",
    "    # return a collection.Counter object\n",
    "    # such that counter[term] is the idf for that term\n",
    "    \n",
    "    term_idf = collections.Counter()\n",
    "    \n",
    "    #\n",
    "    # code in the magic\n",
    "    #\n",
    "    # hint:  for term in vocabulary\n",
    "    #           for doc in doc_tfs \n",
    "    #              calculate term_count\n",
    "    #           calculate idf\n",
    "    \n",
    "    \n",
    "    return term_idf"
   ]
  },
  {
   "cell_type": "code",
   "execution_count": 0,
   "metadata": {},
   "outputs": [],
   "source": [
    "# run to read the next section\n",
    "ide.reader.view_section(7)"
   ]
  },
  {
   "cell_type": "markdown",
   "metadata": {},
   "source": [
    "# Lesson Assignment"
   ]
  },
  {
   "cell_type": "code",
   "execution_count": 0,
   "metadata": {},
   "outputs": [],
   "source": [
    "# run to read the next section\n",
    "ide.reader.view_section(8)"
   ]
  },
  {
   "cell_type": "code",
   "execution_count": 0,
   "metadata": {},
   "outputs": [],
   "source": [
    "# type&run the above example/exercise in this cell"
   ]
  },
  {
   "cell_type": "code",
   "execution_count": 0,
   "metadata": {},
   "outputs": [],
   "source": [
    "# run to read the next section\n",
    "ide.reader.view_section(10)"
   ]
  },
  {
   "cell_type": "code",
   "execution_count": 0,
   "metadata": {},
   "outputs": [],
   "source": [
    "# type&run the above example/exercise in this cell"
   ]
  },
  {
   "cell_type": "markdown",
   "metadata": {},
   "source": [
    "# Extra Credit"
   ]
  },
  {
   "cell_type": "code",
   "execution_count": 0,
   "metadata": {},
   "outputs": [],
   "source": [
    "# run to read the next section\n",
    "ide.reader.view_section(12)"
   ]
  },
  {
   "cell_type": "markdown",
   "metadata": {},
   "source": [
    "# Test and Submit"
   ]
  },
  {
   "cell_type": "code",
   "execution_count": 0,
   "metadata": {},
   "outputs": [],
   "source": [
    "# run to read the next section\n",
    "ide.reader.view_section(13)"
   ]
  },
  {
   "cell_type": "code",
   "execution_count": 0,
   "metadata": {},
   "outputs": [],
   "source": [
    "# print(ide.tester.test_notebook()) \n",
    "print(ide.tester.test_notebook(verbose=True)) \n",
    "\n",
    "# once you are ready -- run this \n",
    "# be sure to name the download it solution.py \n",
    "# ide.tester.download_solution()"
   ]
  }
 ],
 "metadata": {
  "colab": {
   "collapsed_sections": [],
   "name": "TF•IDF",
   "provenance": []
  },
  "kernelspec": {
   "display_name": "Python 3",
   "name": "python3"
  },
  "language": "python",
  "story": {
   "auth_token": "4qcBQ0Giv5wY8kQJJ9PHOHUI9XgqC1sBPsmzJy0rPDk=",
   "authorship_tag": "AB",
   "chapters": 15,
   "name": "TF•IDF",
   "parser": {},
   "root": "https://raw.githubusercontent.com/habermanUIUC/CodeStoryLessons/main/lessons",
   "tag": "dmap:text:tfidf"
  }
 },
 "nbformat": 4,
 "nbformat_minor": 4
}
