{
 "cells": [
  {
   "cell_type": "markdown",
   "metadata": {},
   "source": [
    "# Data, Machines and the 🐍 \n",
    "<img src=\"https://raw.githubusercontent.com/habermanUIUC/CodeStoryLessons/main/lessons/dmap/data/color/html/section00.png\" align=\"left\"/>"
   ]
  },
  {
   "cell_type": "markdown",
   "metadata": {},
   "source": [
    "<a id=\"install\"></a>\n",
    "## Notebook Preparation for Lesson 1•2•3\n",
    "Each lesson will start with a similar template (given in the course schedule):  \n",
    "1. **save** to your google drive (copy to drive)<br/><img src=\"https://raw.githubusercontent.com/habermanUIUC/CodeStoryLessons/main/assets/images/colab/copy-to-drive.png\"/>\n",
    "2. **update** the NET_ID to be your netID (no need to include @illinois.edu)\n",
    "3. **run** the next cell to install the IDE. <img src=\"https://raw.githubusercontent.com/habermanUIUC/CodeStoryLessons/main/assets/images/colab/play-button.png\"/>"
   ]
  },
  {
   "cell_type": "code",
   "execution_count": 0,
   "metadata": {},
   "outputs": [],
   "source": [
    "LESSON_ID = 'dmap:data:color'   # keep this as is\n",
    "NET_ID    = 'CHANGE_ME' # CHANGE_ME to your netID (keep the quotes)\n",
    "\n",
    "def install_ide(net_id, lesson_id):\n",
    "  import sys\n",
    "  if 'codestories' not in sys.modules:\n",
    "      print('installing modules')\n",
    "      !pip install git+https://mehaberman@bitbucket.org/mehaberman/codestories.git --upgrade &> install.log\n",
    "  \n",
    "  from codestories.cs.CodeStories import CodeStory\n",
    "  return CodeStory(net_id, lesson_id)\n",
    "\n",
    "ide = install_ide(NET_ID, LESSON_ID)\n",
    "print(ide.welcome())"
   ]
  },
  {
   "cell_type": "markdown",
   "metadata": {},
   "source": [
    "# Lesson Color\n",
    "(hit ▶ to read the first part of the lesson️)"
   ]
  },
  {
   "cell_type": "code",
   "execution_count": 0,
   "metadata": {},
   "outputs": [],
   "source": [
    "# run to read the next section\n",
    "ide.reader.view_section(1)"
   ]
  },
  {
   "cell_type": "code",
   "execution_count": 0,
   "metadata": {},
   "outputs": [],
   "source": [
    "import matplotlib\n",
    "import matplotlib.pyplot as plt\n",
    "\n",
    "def make_plot():\n",
    "  fig, axes = plt.subplots()\n",
    "  axes.scatter([0,1,2,3], [0,1,2,3])\n",
    "make_plot()"
   ]
  },
  {
   "cell_type": "code",
   "execution_count": 0,
   "metadata": {},
   "outputs": [],
   "source": [
    "# run to read the next section\n",
    "ide.reader.view_section(3)"
   ]
  },
  {
   "cell_type": "code",
   "execution_count": 0,
   "metadata": {},
   "outputs": [],
   "source": [
    "from LessonUtil import RandomData, RandomPetData\n",
    "data = RandomData(60)\n",
    "\n",
    "def plot_ex1(data):\n",
    "  fig, axes = plt.subplots()\n",
    "  axes.scatter(data.x, data.y, c='b')\n",
    "plot_ex1(data)"
   ]
  },
  {
   "cell_type": "code",
   "execution_count": 0,
   "metadata": {},
   "outputs": [],
   "source": [
    "# run to read the next section\n",
    "ide.reader.view_section(5)"
   ]
  },
  {
   "cell_type": "code",
   "execution_count": 0,
   "metadata": {},
   "outputs": [],
   "source": [
    "def plot_ex2(data):\n",
    "  fig, axes = plt.subplots()\n",
    "  axes.scatter(data.x, data.y, color='blue')\n",
    "plot_ex2(data)"
   ]
  },
  {
   "cell_type": "code",
   "execution_count": 0,
   "metadata": {},
   "outputs": [],
   "source": [
    "# run to read the next section\n",
    "ide.reader.view_section(7)"
   ]
  },
  {
   "cell_type": "code",
   "execution_count": 0,
   "metadata": {},
   "outputs": [],
   "source": [
    "def plot_ex3(data):\n",
    "  fig, axes = plt.subplots()\n",
    "  axes.scatter(data.x, data.y, facecolor='g', edgecolor='r')\n",
    "  # the plural is also available\n",
    "  #axes.scatter(data.x, data.y, facecolors='g', edgecolors='r')\n",
    "  \n",
    "plot_ex3(data)"
   ]
  },
  {
   "cell_type": "code",
   "execution_count": 0,
   "metadata": {},
   "outputs": [],
   "source": [
    "# run to read the next section\n",
    "ide.reader.view_section(9)"
   ]
  },
  {
   "cell_type": "code",
   "execution_count": 0,
   "metadata": {},
   "outputs": [],
   "source": [
    "from LessonUtil import RandomData\n",
    "def plot_ex4(data):\n",
    "  fig, axes = plt.subplots()\n",
    "  axes.bar(data.n, data.y, color='b')\n",
    "  \n",
    "data4 = RandomData(4)\n",
    "plot_ex4(data4)"
   ]
  },
  {
   "cell_type": "code",
   "execution_count": 0,
   "metadata": {},
   "outputs": [],
   "source": [
    "# run to read the next section\n",
    "ide.reader.view_section(11)"
   ]
  },
  {
   "cell_type": "code",
   "execution_count": 0,
   "metadata": {},
   "outputs": [],
   "source": [
    "def plot_ex5(data):\n",
    "  fig, axes = plt.subplots()\n",
    "  axes.scatter(data.x, data.y, s=150, color=['g', 'r', 'b', 'w'], edgecolor='r')\n",
    "\n",
    "plot_ex5(data4)"
   ]
  },
  {
   "cell_type": "code",
   "execution_count": 0,
   "metadata": {},
   "outputs": [],
   "source": [
    "# run to read the next section\n",
    "ide.reader.view_section(13)"
   ]
  },
  {
   "cell_type": "code",
   "execution_count": 0,
   "metadata": {},
   "outputs": [],
   "source": [
    "def plot_ex6(data):\n",
    "  fig, axes = plt.subplots()\n",
    "  markers = axes.bar(data.n, data.y, color='red')\n",
    "  for marker, y in zip(markers, data.y): \n",
    "    if y > 0:\n",
    "      marker.set(color='green', linewidth=3)\n",
    "      marker.set_edgecolor('black')\n",
    "\n",
    "data10 = RandomData(10)\n",
    "plot_ex6(data10)"
   ]
  },
  {
   "cell_type": "code",
   "execution_count": 0,
   "metadata": {},
   "outputs": [],
   "source": [
    "# run to read the next section\n",
    "ide.reader.view_section(15)"
   ]
  },
  {
   "cell_type": "code",
   "execution_count": 0,
   "metadata": {},
   "outputs": [],
   "source": [
    "def plot_ex7(data):\n",
    "  fig, axes = plt.subplots()\n",
    "  axes.fill_between(data.n, data.x, data.y, color='red')\n",
    "  \n",
    "plot_ex7(data10)"
   ]
  },
  {
   "cell_type": "code",
   "execution_count": 0,
   "metadata": {},
   "outputs": [],
   "source": [
    "# run to read the next section\n",
    "ide.reader.view_section(17)"
   ]
  },
  {
   "cell_type": "code",
   "execution_count": 0,
   "metadata": {},
   "outputs": [],
   "source": [
    "def plot_ex8(data):\n",
    "  fig, axes = plt.subplots()\n",
    "  axes.fill_between(data.n, data.x, data.y, \n",
    "                    where=(data.x > data.y), color='c', alpha=0.3, \n",
    "                    interpolate=True)\n",
    "  axes.fill_between(data.n, data.x, data.y, \n",
    "                    where=(data.x <= data.y), color='y', alpha=0.3,\n",
    "                    interpolate=True)\n",
    "plot_ex8(data10)"
   ]
  },
  {
   "cell_type": "code",
   "execution_count": 0,
   "metadata": {},
   "outputs": [],
   "source": [
    "# run to read the next section\n",
    "ide.reader.view_section(19)"
   ]
  },
  {
   "cell_type": "code",
   "execution_count": 0,
   "metadata": {},
   "outputs": [],
   "source": [
    "import itertools\n",
    "def plot_ex9(data, cc):\n",
    "  fig, axes = plt.subplots(figsize=(6,6))\n",
    "  for i in data.n:\n",
    "     axes.scatter(i, i, s=200, c=next(cc), edgecolor='black')\n",
    "     \n",
    "data = RandomData(40)\n",
    "colors = itertools.cycle([\"r\", \"b\", \"g\", \"yellow\"])\n",
    "plot_ex9(data, colors)"
   ]
  },
  {
   "cell_type": "code",
   "execution_count": 0,
   "metadata": {},
   "outputs": [],
   "source": [
    "# run to read the next section\n",
    "ide.reader.view_section(21)"
   ]
  },
  {
   "cell_type": "code",
   "execution_count": 0,
   "metadata": {},
   "outputs": [],
   "source": [
    "from cycler import cycler\n",
    "def plot_ex10(data, cc):\n",
    "  fig, axes = plt.subplots(figsize=(6,6))\n",
    "  axes.set_prop_cycle(cc)\n",
    "  \n",
    "  for i in data.n:\n",
    "     axes.scatter(i, i) \n",
    "\n",
    "cc = cycler(color=['c', 'm', 'y', 'k'])\n",
    "data = RandomData(40)\n",
    "plot_ex10(data,cc)"
   ]
  },
  {
   "cell_type": "code",
   "execution_count": 0,
   "metadata": {},
   "outputs": [],
   "source": [
    "# run to read the next section\n",
    "ide.reader.view_section(23)"
   ]
  },
  {
   "cell_type": "code",
   "execution_count": 0,
   "metadata": {},
   "outputs": [],
   "source": [
    "def plot_ex11(data):\n",
    "  fig, axes = plt.subplots(figsize=(6,6))\n",
    "  for i in data.n:\n",
    "      axes.scatter(i, i) \n",
    "plot_ex11(data)"
   ]
  },
  {
   "cell_type": "code",
   "execution_count": 0,
   "metadata": {},
   "outputs": [],
   "source": [
    "# run to read the next section\n",
    "ide.reader.view_section(25)"
   ]
  },
  {
   "cell_type": "code",
   "execution_count": 0,
   "metadata": {},
   "outputs": [],
   "source": [
    "def plot_ex12(data):\n",
    "  fig, axes = plt.subplots()\n",
    "  axes.fill_between(data.n, data.x, data.y, \n",
    "                    where=(data.x > data.y), color='C0', alpha=0.3, \n",
    "                    interpolate=True)\n",
    "  axes.fill_between(data.n, data.x, data.y, \n",
    "                    where=(data.x <= data.y), color='C1', alpha=0.3,\n",
    "                    interpolate=True)\n",
    "plot_ex12(data10)"
   ]
  },
  {
   "cell_type": "code",
   "execution_count": 0,
   "metadata": {},
   "outputs": [],
   "source": [
    "# run to read the next section\n",
    "ide.reader.view_section(27)"
   ]
  },
  {
   "cell_type": "code",
   "execution_count": 0,
   "metadata": {},
   "outputs": [],
   "source": [
    "import numpy as np\n",
    "def line_ex():\n",
    "  t = np.arange(0.0, 5.0, 0.2)\n",
    "  fig, ax = plt.subplots()\n",
    "  ax.plot(t, t, '-')\n",
    "  ax.plot(t, t**2, '--')\n",
    "  ax.plot(t, t**3, '-.')\n",
    "  ax.plot(t, -t, ':')\n",
    "  \n",
    "  return fig\n",
    "\n",
    "fig = line_ex()"
   ]
  },
  {
   "cell_type": "code",
   "execution_count": 0,
   "metadata": {},
   "outputs": [],
   "source": [
    "# run to read the next section\n",
    "ide.reader.view_section(29)"
   ]
  },
  {
   "cell_type": "code",
   "execution_count": 0,
   "metadata": {},
   "outputs": [],
   "source": [
    "def plot_ex13(data, cc):\n",
    "  fig, axes = plt.subplots(figsize=(6,6))\n",
    "  axes.set_prop_cycle(cc)\n",
    "  \n",
    "  for i in data.n:\n",
    "     axes.plot(i, i)      # colors and markers\n",
    "     # axes.scatter(i, i) # colors only\n",
    "\n",
    "cc = cycler(color=['c', 'm', 'y', 'k'], marker=['x','o','d','s'])\n",
    "data = RandomData(40)\n",
    "plot_ex13(data,cc)"
   ]
  },
  {
   "cell_type": "code",
   "execution_count": 0,
   "metadata": {},
   "outputs": [],
   "source": [
    "# run to read the next section\n",
    "ide.reader.view_section(31)"
   ]
  },
  {
   "cell_type": "markdown",
   "metadata": {},
   "source": [
    "# Opacity and Alpha"
   ]
  },
  {
   "cell_type": "code",
   "execution_count": 0,
   "metadata": {},
   "outputs": [],
   "source": [
    "# run to read the next section\n",
    "ide.reader.view_section(32)"
   ]
  },
  {
   "cell_type": "code",
   "execution_count": 0,
   "metadata": {},
   "outputs": [],
   "source": [
    "def plot_ex14(data):\n",
    "  fig, axes = plt.subplots()\n",
    "  color = '#0000ff30'  \n",
    "  #color = (0, 0, 1, 0.20)\n",
    "  axes.scatter(data.x, data.y, color=color)\n",
    "  \n",
    "plot_ex14(RandomData(1000))"
   ]
  },
  {
   "cell_type": "markdown",
   "metadata": {},
   "source": [
    "# Color Palette"
   ]
  },
  {
   "cell_type": "code",
   "execution_count": 0,
   "metadata": {},
   "outputs": [],
   "source": [
    "# run to read the next section\n",
    "ide.reader.view_section(34)"
   ]
  },
  {
   "cell_type": "markdown",
   "metadata": {},
   "source": [
    "# Lesson Assignment"
   ]
  },
  {
   "cell_type": "code",
   "execution_count": 0,
   "metadata": {},
   "outputs": [],
   "source": [
    "# run to read the next section\n",
    "ide.reader.view_section(35)"
   ]
  },
  {
   "cell_type": "code",
   "execution_count": 0,
   "metadata": {},
   "outputs": [],
   "source": [
    "from LessonUtil import RandomPetData\n",
    "data = RandomPetData(100)\n",
    "print(data.pet)"
   ]
  },
  {
   "cell_type": "code",
   "execution_count": 0,
   "metadata": {},
   "outputs": [],
   "source": [
    "# run to read the next section\n",
    "ide.reader.view_section(37)"
   ]
  },
  {
   "cell_type": "code",
   "execution_count": 0,
   "metadata": {},
   "outputs": [],
   "source": [
    "def build_colormap():\n",
    "   # go to ColorBrewer (colorbrewer2.org) \n",
    "   # to fill in the mapping between pet name and color\n",
    "   return {'dog': 'green'}"
   ]
  },
  {
   "cell_type": "code",
   "execution_count": 0,
   "metadata": {},
   "outputs": [],
   "source": [
    "# run to read the next section\n",
    "ide.reader.view_section(39)"
   ]
  },
  {
   "cell_type": "code",
   "execution_count": 0,
   "metadata": {},
   "outputs": [],
   "source": [
    "def plot_pets(data, cmap):\n",
    "  pass"
   ]
  },
  {
   "cell_type": "code",
   "execution_count": 0,
   "metadata": {},
   "outputs": [],
   "source": [
    "# run to read the next section\n",
    "ide.reader.view_section(41)"
   ]
  },
  {
   "cell_type": "markdown",
   "metadata": {},
   "source": [
    "# Test and Submit"
   ]
  },
  {
   "cell_type": "code",
   "execution_count": 0,
   "metadata": {},
   "outputs": [],
   "source": [
    "# run to read the next section\n",
    "ide.reader.view_section(42)"
   ]
  },
  {
   "cell_type": "code",
   "execution_count": 0,
   "metadata": {},
   "outputs": [],
   "source": [
    "# print(ide.tester.test_notebook()) \n",
    "print(ide.tester.test_notebook(verbose=True)) \n",
    "\n",
    "# once you are ready -- run this \n",
    "# be sure to name the download it solution.py \n",
    "# ide.tester.download_solution()"
   ]
  }
 ],
 "metadata": {
  "colab": {
   "collapsed_sections": [],
   "name": "Color",
   "provenance": []
  },
  "kernelspec": {
   "display_name": "Python 3",
   "name": "python3"
  },
  "language": "python",
  "story": {
   "auth_token": "6zbRZ9vT50mA3SFEybn7-Zx_iqlipwXhy6HmwXIKyGU=",
   "authorship_tag": "AB",
   "chapters": 44,
   "name": "Color",
   "parser": {},
   "root": "https://raw.githubusercontent.com/habermanUIUC/CodeStoryLessons/main/lessons",
   "tag": "dmap:data:color"
  }
 },
 "nbformat": 4,
 "nbformat_minor": 4
}
