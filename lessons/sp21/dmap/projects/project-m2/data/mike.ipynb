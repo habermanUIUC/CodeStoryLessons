{
 "nbformat": 4,
 "nbformat_minor": 0,
 "metadata": {
  "colab": {
   "name": "DM🐍 Project Template.ipynb",
   "provenance": [],
   "collapsed_sections": [
    "hv41ElVE5d0K"
   ]
  },
  "kernelspec": {
   "name": "python3",
   "display_name": "Python 3"
  }
 },
 "cells": [
  {
   "cell_type": "code",
   "metadata": {
    "id": "MPrJ8HLyC-Cd"
   },
   "source": [
    "# Keep this code cell here\n",
    "# Project title will be used by the reviewer\n",
    "PROJECT_TITLE = \"Put your project title here\"\n",
    "NOTEBOOK_ID   = \"https://colab.research.google.com/drive/1lnfoYdWZ4oSc9t8kwp6FCDTcAg1XiCBg?usp=sharing\"\n",
    "VERSION = \"SP21\""
   ],
   "execution_count": null,
   "outputs": []
  },
  {
   "cell_type": "markdown",
   "metadata": {
    "id": "ui5eQuo1DMEI"
   },
   "source": [
    "\n",
    "---\n",
    "# Project Introduction\n",
    "\n",
    "Double click on this cell to see its contents.  We expect you to replace this cell.\n",
    "\n",
    "<img align=\"left\" src=\"http://drive.google.com/uc?export=view&id=1nA9491MchEtFcklvtIGqOnipE63C2FGD\"/>\n",
    "\n",
    "• Describe the **context**, sitution, problem to be solved/explored\n",
    "\n",
    "• Whatever you need to get the reader _involved_\n",
    "\n",
    "• Images can be hosted using google drive (you may need to create a transparent border)\n",
    "\n",
    "• Even formulas when needed: \n",
    "$$e^x = \\sum_{k=0}^{\\infty} \\frac{x^k}{k!}$$\n",
    "\n",
    "• Note that markdown is very whitespace sensitive.\n",
    "• Click on this cell to read comments.\n",
    "\n",
    "<!-- this is a comment -->\n",
    "<!-- \n",
    "\n",
    "   VIDEO INSTRUCTIONS (and data hosting)\n",
    "\n",
    "1. upload to google drive, get the share URL\n",
    "https://drive.google.com/file/d/1yGvY5a0KAqnOKf5kLh5EbbbRY4_LonAX\n",
    "\n",
    "2. convert to export URL:\n",
    "http://drive.google.com/uc?export=download&id=1yGvY5a0KAqnOKf5kLh5EbbbRY4_LonAX\n",
    "\n",
    "3. OR use some other service to host your video:\n",
    "https://storage.googleapis.com/uicourse/videos/dmap/Exact%20Instructions%20Challenge%20-%20THIS%20is%20why%20my%20kids%20hate%20me.%20%20Josh%20Darnit.mp4\n",
    "\n",
    "replace the src=\"YOUR VIDEO URL\" in the <source> tag in the next cell below\n",
    "-->"
   ]
  },
  {
   "cell_type": "code",
   "metadata": {
    "id": "JQo5zhkeEuXL",
    "colab": {
     "base_uri": "https://localhost:8080/",
     "height": 427
    },
    "outputId": "f3a67cd9-8d6e-4fee-93fb-fdfae1c11706"
   },
   "source": [
    "%%html\n",
    "<!-- this should be the ONLY html cell in the notebook: use markdown -->\n",
    "<div style=\"font-size:36px; max-width:800px; font-family:Times, serif;\">\n",
    " Title Your Video (and update the video URL)\n",
    "<video width=\"600\" controls>\n",
    "  <source src=\"https://drive.google.com/uc?export=download&id=1yGvY5a0KAqnOKf5kLh5EbbbRY4_LonAX\"\n",
    "  type=\"video/mp4\">\n",
    "</video>\n",
    "</div>\n",
    "Note: If your video is too large, you can host it on Vimeo, YouTube, etc and paste the URL here"
   ],
   "execution_count": 3,
   "outputs": [
    {
     "output_type": "display_data",
     "data": {
      "text/html": [
       "<!-- this should be the ONLY html cell in the notebook: use markdown -->\n",
       "<div style=\"font-size:36px; max-width:800px; font-family:Times, serif;\">\n",
       " Title Your Video (and update the video URL)\n",
       "<video width=\"600\" controls>\n",
       "  <source src=\"https://drive.google.com/uc?export=download&id=1yGvY5a0KAqnOKf5kLh5EbbbRY4_LonAX\"\n",
       "  type=\"video/mp4\">\n",
       "</video>\n",
       "</div>\n",
       "Note:  If your video is too large, you can host it on Vimeo, YouTube, etc and paste the URL here"
      ],
      "text/plain": [
       "<IPython.core.display.HTML object>"
      ]
     },
     "metadata": {
      "tags": []
     }
    }
   ]
  },
  {
   "cell_type": "code",
   "metadata": {
    "id": "4ZK0-f54UAtE"
   },
   "source": [
    "# add your imports here for your entire project\n",
    "import pandas as pd\n",
    "import numpy as np"
   ],
   "execution_count": null,
   "outputs": []
  },
  {
   "cell_type": "markdown",
   "metadata": {
    "id": "GJvmagnZDPjW"
   },
   "source": [
    "# Data Acquisition, Selection, Cleaning\n",
    "Introduce the data here as well as any technical overview that's important that wasn't given in the introduction\n"
   ]
  },
  {
   "cell_type": "markdown",
   "metadata": {
    "id": "cZiK2fxwGz80"
   },
   "source": [
    "# Data Exploration\n",
    "Initial exploration of the dataset, not required, but useful to give the reader a 'view' of the data"
   ]
  },
  {
   "cell_type": "markdown",
   "metadata": {
    "id": "AVqckiHyDUkD"
   },
   "source": [
    "# Data Analysis"
   ]
  },
  {
   "cell_type": "markdown",
   "metadata": {
    "id": "QHgmmT2XDXSu"
   },
   "source": [
    "# Conclusion"
   ]
  },
  {
   "cell_type": "markdown",
   "metadata": {
    "id": "hv41ElVE5d0K"
   },
   "source": [
    "\n",
    "---\n",
    "# Submission Guidelines (keep this section here)\n",
    "---\n",
    "\n",
    "\n",
    "When you are ready to submit your project, part of the submission process will be to register your notebook for reviewing.  \n",
    "\n",
    "You will also receive the links and instructions to do the peer reviews.\n",
    "\n",
    "Please review the metadata:"
   ]
  },
  {
   "cell_type": "code",
   "metadata": {
    "id": "VOUCKYCWBZDp"
   },
   "source": [
    "def get_metadata():\n",
    "  meta = {\n",
    "          \"title\": PROJECT_TITLE, # keep this as is\n",
    "          \"nb_id\": NOTEBOOK_ID,   # keep this as is\n",
    "\n",
    "          # permissions\n",
    "          # do you give the instructor the permission to copy this project\n",
    "          # and allow others to view it in the class gallery?\n",
    "          \"allow_gallery\": False,\n",
    "          \"data\": ['apples'],\n",
    "\n",
    "          # if your project is made viewable to others,\n",
    "          # do you want to include your name (first/last)?\n",
    "          \"allow_name_release\": False\n",
    "          }\n",
    "  return meta"
   ],
   "execution_count": 2,
   "outputs": []
  },
  {
   "cell_type": "markdown",
   "metadata": {
    "id": "-_C-G52O29MM"
   },
   "source": [
    "Specific instructions will come for what to submit for the various milestones.\n",
    "\n",
    "If necessary, you can download the Python version of this notebook by using the `File->Download .py` as well as the notebook itself `File->Download .ipynb`.\n",
    "\n"
   ]
  }
 ]
}