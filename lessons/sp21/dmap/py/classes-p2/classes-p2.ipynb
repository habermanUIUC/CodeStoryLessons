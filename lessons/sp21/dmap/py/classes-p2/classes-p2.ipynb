{
 "cells": [
  {
   "cell_type": "markdown",
   "metadata": {},
   "source": [
    "# Data, Machines and the 🐍 \n",
    "<img src=\"https://raw.githubusercontent.com/habermanUIUC/CodeStoryLessons/main/lessons/dmap/py/classes-p2/html/section00.png\" align=\"left\"/>"
   ]
  },
  {
   "cell_type": "markdown",
   "metadata": {},
   "source": [
    "<a id=\"install\"></a>\n",
    "## Notebook Preparation for Lesson 1•2•3\n",
    "Each lesson will start with a similar template (given in the course schedule):  \n",
    "1. **save** to your google drive (copy to drive)<br/><img src=\"https://raw.githubusercontent.com/habermanUIUC/CodeStoryLessons/main/assets/images/colab/copy-to-drive.png\"/>\n",
    "2. **update** the NET_ID to be your netID (no need to include @illinois.edu)\n",
    "3. **run** the next cell to install the IDE. <img src=\"https://raw.githubusercontent.com/habermanUIUC/CodeStoryLessons/main/assets/images/colab/play-button.png\"/>"
   ]
  },
  {
   "cell_type": "code",
   "execution_count": 0,
   "metadata": {},
   "outputs": [],
   "source": [
    "LESSON_ID = 'dmap:py:classes-p2'   # keep this as is\n",
    "NET_ID    = 'CHANGE_ME' # CHANGE_ME to your netID (keep the quotes)\n",
    "\n",
    "def install_ide(net_id, lesson_id):\n",
    "  import sys\n",
    "  if 'codestories' not in sys.modules:\n",
    "      print('installing modules')\n",
    "      !pip install git+https://mehaberman@bitbucket.org/mehaberman/codestories.git --upgrade &> install.log\n",
    "  \n",
    "  from codestories.cs.CodeStories import CodeStory\n",
    "  return CodeStory(net_id, lesson_id)\n",
    "\n",
    "ide = install_ide(NET_ID, LESSON_ID)\n",
    "print(ide.welcome())"
   ]
  },
  {
   "cell_type": "markdown",
   "metadata": {},
   "source": [
    "# Lesson Python Classes (part 2)\n",
    "(hit ▶ to read the first part of the lesson️)"
   ]
  },
  {
   "cell_type": "code",
   "execution_count": 0,
   "metadata": {},
   "outputs": [],
   "source": [
    "# run to read the next section\n",
    "ide.reader.view_section(1)"
   ]
  },
  {
   "cell_type": "code",
   "execution_count": 0,
   "metadata": {},
   "outputs": [],
   "source": [
    "# place code here from previous lesson"
   ]
  },
  {
   "cell_type": "code",
   "execution_count": 0,
   "metadata": {},
   "outputs": [],
   "source": [
    "# run to read the next section\n",
    "ide.reader.view_section(3)"
   ]
  },
  {
   "cell_type": "code",
   "execution_count": 0,
   "metadata": {},
   "outputs": [],
   "source": [
    "def graffiti():\n",
    "    import LessonUtil as Util\n",
    "    \n",
    "    p1 = Point2D(4,5)\n",
    "    p2 = Point2D(10,8)\n",
    "    \n",
    "    lineA = Line(p1, p2)\n",
    "    Util.plot_lines([lineA])\n",
    "    print(lineA.get_slope())\n",
    "\n",
    "    p2.x = -7.4\n",
    "    Util.plot_lines([lineA])\n",
    "    print(lineA.get_slope())\n",
    "    \n",
    "graffiti()"
   ]
  },
  {
   "cell_type": "code",
   "execution_count": 0,
   "metadata": {},
   "outputs": [],
   "source": [
    "# run to read the next section\n",
    "ide.reader.view_section(5)"
   ]
  },
  {
   "cell_type": "code",
   "execution_count": 0,
   "metadata": {},
   "outputs": [],
   "source": [
    "class Point2D(object):\n",
    "    def __init__(self, x, y):\n",
    "      self._x = x\n",
    "      self._y = y\n",
    "\n",
    "    def __repr__(self):\n",
    "       return \"x:{:.2f}, y:{:.2f}\".format(self._x, self._y)\n",
    "\n",
    "p1 = Point2D(10,20)\n",
    "\n",
    "# this works, but goes against Python conventions\n",
    "p1._x = 1000 \n",
    "\n",
    "# this actually adds new data to p1 instance\n",
    "p1.x = 100   \n",
    "print(p1)"
   ]
  },
  {
   "cell_type": "code",
   "execution_count": 0,
   "metadata": {},
   "outputs": [],
   "source": [
    "# run to read the next section\n",
    "ide.reader.view_section(7)"
   ]
  },
  {
   "cell_type": "code",
   "execution_count": 0,
   "metadata": {},
   "outputs": [],
   "source": [
    "class Point2D(object):\n",
    "    def __init__(self, x, y):\n",
    "      self._x = x\n",
    "      self._y = y\n",
    "      \n",
    "    def get_x(self):\n",
    "      return self._x\n",
    "\n",
    "    def set_x(self, x):\n",
    "      self._x = x\n",
    "\n",
    "    def get_y(self):\n",
    "      return self._y\n",
    "\n",
    "    def __repr__(self):\n",
    "       return \"x:{:.2f}, y:{:.2f}\".format(self._x, self._y)\n",
    "\n",
    "p1 = Point2D(10,20)\n",
    "\n",
    "# get some data\n",
    "print(p1.get_x())\n",
    "\n",
    "# set some data\n",
    "p1.set_x(100)\n",
    "print(p1)\n",
    "\n",
    "# still legal, but not a good idea\n",
    "# adds a new data to p1 instance\n",
    "p1.x = 100  \n",
    "print(p1)"
   ]
  },
  {
   "cell_type": "markdown",
   "metadata": {},
   "source": [
    "# Python Decorators"
   ]
  },
  {
   "cell_type": "code",
   "execution_count": 0,
   "metadata": {},
   "outputs": [],
   "source": [
    "# run to read the next section\n",
    "ide.reader.view_section(9)"
   ]
  },
  {
   "cell_type": "code",
   "execution_count": 0,
   "metadata": {},
   "outputs": [],
   "source": [
    "class Point2D(object):\n",
    "\n",
    "    def __init__(self, x, y):\n",
    "      self._x = x\n",
    "      self._y = y\n",
    "    \n",
    "    # y is read only\n",
    "    @property\n",
    "    def y(self):\n",
    "      return self._y\n",
    "\n",
    "    # allow reading\n",
    "    @property\n",
    "    def x(self):\n",
    "      return self._x\n",
    "\n",
    "    # allow writing\n",
    "    @x.setter\n",
    "    def x(self, new_x):\n",
    "      self._x = new_x\n",
    "\n",
    "    def __repr__(self):\n",
    "       # self.x is now using the getter\n",
    "       return \"x:{:.2f}, y:{:.2f}\".format(self.x, self.y)"
   ]
  },
  {
   "cell_type": "code",
   "execution_count": 0,
   "metadata": {},
   "outputs": [],
   "source": [
    "# run to read the next section\n",
    "ide.reader.view_section(11)"
   ]
  },
  {
   "cell_type": "code",
   "execution_count": 0,
   "metadata": {},
   "outputs": [],
   "source": [
    "# type&run the above example/exercise in this cell"
   ]
  },
  {
   "cell_type": "code",
   "execution_count": 0,
   "metadata": {},
   "outputs": [],
   "source": [
    "# run to read the next section\n",
    "ide.reader.view_section(13)"
   ]
  },
  {
   "cell_type": "code",
   "execution_count": 0,
   "metadata": {},
   "outputs": [],
   "source": [
    "class Person(object):\n",
    "\n",
    "    def __init__(self, name):\n",
    "        parts = name.split(' ')\n",
    "        self.first  = parts[0]\n",
    "        self.second = parts[1]\n",
    "        \n",
    "    @staticmethod\n",
    "    def is_full_name(name):\n",
    "        names = name.split(' ')\n",
    "        return len(names) > 1\n",
    "\n",
    "Person.is_full_name('Michael Haberman')\n",
    "Person.is_full_name('Mike')"
   ]
  },
  {
   "cell_type": "code",
   "execution_count": 0,
   "metadata": {},
   "outputs": [],
   "source": [
    "# run to read the next section\n",
    "ide.reader.view_section(15)"
   ]
  },
  {
   "cell_type": "code",
   "execution_count": 0,
   "metadata": {},
   "outputs": [],
   "source": [
    "class BetterPerson(object):\n",
    "\n",
    "    def __init__(self, f_name, l_name):\n",
    "        self.first = f_name\n",
    "        self.second = l_name\n",
    "\n",
    "    def __repr__(self):\n",
    "        return self.first + ' ' + self.second\n",
    "\n",
    "    @classmethod\n",
    "    def from_name(cls, name):\n",
    "        names = name.split(' ')\n",
    "        person = cls(names[0], names[-1])\n",
    "        return person\n",
    "\n",
    "print(BetterPerson.from_name('Michael Haberman'))\n",
    "print(BetterPerson.from_name('Michael'))\n",
    "print(BetterPerson.from_name('Michael E Haberman'))\n",
    "print(BetterPerson.from_name(''))"
   ]
  },
  {
   "cell_type": "code",
   "execution_count": 0,
   "metadata": {},
   "outputs": [],
   "source": [
    "# run to read the next section\n",
    "ide.reader.view_section(17)"
   ]
  },
  {
   "cell_type": "code",
   "execution_count": 0,
   "metadata": {},
   "outputs": [],
   "source": [
    "class BetterPerson(object):\n",
    "\n",
    "    def __init__(self, f_name, l_name):\n",
    "        self.first = f_name\n",
    "        self.second = l_name\n",
    "\n",
    "    def __repr__(self):\n",
    "        return self.first + ' ' + self.second\n",
    "\n",
    "    @classmethod\n",
    "    def from_name(cls, name):\n",
    "        names = name.split(' ')\n",
    "        person = cls(names[0], names[-1])\n",
    "        return person\n",
    "\n",
    "    @classmethod\n",
    "    def make_people(cls, names):\n",
    "        return [cls.from_name(n) for n in names]\n",
    "\n",
    "group = BetterPerson.make_people(['Mike H', 'Peter B', 'Mary K'])\n",
    "print(group)"
   ]
  },
  {
   "cell_type": "code",
   "execution_count": 0,
   "metadata": {},
   "outputs": [],
   "source": [
    "# run to read the next section\n",
    "ide.reader.view_section(19)"
   ]
  },
  {
   "cell_type": "markdown",
   "metadata": {},
   "source": [
    "# Lesson Assignment"
   ]
  },
  {
   "cell_type": "code",
   "execution_count": 0,
   "metadata": {},
   "outputs": [],
   "source": [
    "# run to read the next section\n",
    "ide.reader.view_section(20)"
   ]
  },
  {
   "cell_type": "code",
   "execution_count": 0,
   "metadata": {},
   "outputs": [],
   "source": [
    "# type&run the above example/exercise in this cell"
   ]
  },
  {
   "cell_type": "code",
   "execution_count": 0,
   "metadata": {},
   "outputs": [],
   "source": [
    "# run to read the next section\n",
    "ide.reader.view_section(22)"
   ]
  },
  {
   "cell_type": "markdown",
   "metadata": {},
   "source": [
    "# Test and Submit"
   ]
  },
  {
   "cell_type": "code",
   "execution_count": 0,
   "metadata": {},
   "outputs": [],
   "source": [
    "# run to read the next section\n",
    "ide.reader.view_section(23)"
   ]
  },
  {
   "cell_type": "code",
   "execution_count": 0,
   "metadata": {},
   "outputs": [],
   "source": [
    "# print(ide.tester.test_notebook()) \n",
    "# print(ide.tester.test_notebook(verbose=True)) \n",
    "\n",
    "# once you are ready -- run this \n",
    "# ide.tester.download_solution()"
   ]
  }
 ],
 "metadata": {
  "colab": {
   "collapsed_sections": [],
   "name": "Python Classes (part 2)",
   "provenance": []
  },
  "kernelspec": {
   "display_name": "Python 3",
   "name": "python3"
  },
  "language": "python",
  "story": {
   "auth_token": "gn2Dd67RBINM1z0g1YXB5H3CokrLCCbo4Psdu9Jvrjk=",
   "authorship_tag": "AB",
   "chapters": 25,
   "name": "Python Classes (part 2)",
   "parser": {},
   "root": "https://raw.githubusercontent.com/habermanUIUC/CodeStoryLessons/main/lessons",
   "tag": "dmap:py:classes-p2"
  }
 },
 "nbformat": 4,
 "nbformat_minor": 4
}
