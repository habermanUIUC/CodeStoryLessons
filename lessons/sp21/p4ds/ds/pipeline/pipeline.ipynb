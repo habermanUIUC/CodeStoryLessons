{
 "cells": [
  {
   "cell_type": "markdown",
   "metadata": {},
   "source": [
    "# Programming w/🐍 for Data Science \n",
    "<img src=\"https://raw.githubusercontent.com/habermanUIUC/CodeStoryLessons/main/lessons/p4ds/ds/pipeline/html/section00.png\" align=\"left\"/>"
   ]
  },
  {
   "cell_type": "markdown",
   "metadata": {},
   "source": [
    "<a id=\"install\"></a>\n",
    "## Notebook Preparation for Lesson 1•2•3\n",
    "Each lesson will start with a similar template (given in the course schedule):  \n",
    "1. **save** to your google drive (copy to drive)<br/><img src=\"https://raw.githubusercontent.com/habermanUIUC/CodeStoryLessons/main/assets/images/colab/copy-to-drive.png\"/>\n",
    "2. **update** the NET_ID to be your netID (no need to include @illinois.edu)\n",
    "3. **run** the next cell to install the IDE. <img src=\"https://raw.githubusercontent.com/habermanUIUC/CodeStoryLessons/main/assets/images/colab/play-button.png\"/>"
   ]
  },
  {
   "cell_type": "code",
   "execution_count": 0,
   "metadata": {},
   "outputs": [],
   "source": [
    "LESSON_ID = 'p4ds:ds:pipeline'   # keep this as is\n",
    "NET_ID    = 'CHANGE_ME' # CHANGE_ME to your netID (keep the quotes)\n",
    "\n",
    "def install_ide(net_id, lesson_id):\n",
    "  import sys\n",
    "  if 'codestories' not in sys.modules:\n",
    "      print('installing modules')\n",
    "      !pip install git+https://mehaberman@bitbucket.org/mehaberman/codestories.git --upgrade &> install.log\n",
    "  \n",
    "  from codestories.cs.CodeStories import CodeStory\n",
    "  return CodeStory(net_id, lesson_id)\n",
    "\n",
    "ide = install_ide(NET_ID, LESSON_ID)\n",
    "print(ide.welcome())"
   ]
  },
  {
   "cell_type": "markdown",
   "metadata": {},
   "source": [
    "# Lesson Data Science Pipeline\n",
    "(hit ▶ to read the first part of the lesson️)"
   ]
  },
  {
   "cell_type": "code",
   "execution_count": 0,
   "metadata": {},
   "outputs": [],
   "source": [
    "# run to read the next section\n",
    "ide.reader.view_section(1)"
   ]
  },
  {
   "cell_type": "markdown",
   "metadata": {},
   "source": [
    "# Lesson Assignment:"
   ]
  },
  {
   "cell_type": "code",
   "execution_count": 0,
   "metadata": {},
   "outputs": [],
   "source": [
    "# run to read the next section\n",
    "ide.reader.view_section(2)"
   ]
  },
  {
   "cell_type": "code",
   "execution_count": 0,
   "metadata": {},
   "outputs": [],
   "source": [
    "def normalize(input_string):\n",
    "  #see instructions\n",
    "  return []\n",
    "\n",
    "def find_missing_letters(sentence):\n",
    "  # input:  an array of letters\n",
    "  # output: an array of letters that are NOT in sentence\n",
    "  # you must use the set datatype\n",
    "  return []\n",
    "\n",
    "def find_missing_letters_algorithm(sentence):\n",
    "  # input:  an array of letters\n",
    "  # output: an array of letters that are NOT in sentence\n",
    "  # you cannot use the set datatype\n",
    "  return []\n",
    "  \n",
    "def visualize(arr):\n",
    "  # nothing is more simple than using print to 'visualize' data\n",
    "  print(arr)\n",
    "  return arr"
   ]
  },
  {
   "cell_type": "code",
   "execution_count": 0,
   "metadata": {},
   "outputs": [],
   "source": [
    "# run to read the next section\n",
    "ide.reader.view_section(4)"
   ]
  },
  {
   "cell_type": "code",
   "execution_count": 0,
   "metadata": {},
   "outputs": [],
   "source": [
    "#example:\n",
    "def test(input):\n",
    "   output_n = normalize(input)\n",
    "   print(output_n)\n",
    "   list_a = find_missing_letters(output_n)\n",
    "   list_b = find_missing_letters_algorithm(output_n)\n",
    "   print(list_a)\n",
    "   print(list_b)\n",
    "\n",
    "input = \"Bob went to the market and bought an zaxaphone\"\n",
    "test(input)\n",
    "# expected output: ['c', 'f', 'i', 'j', 'l', 'q', 's', 'v', 'y']\n",
    "\n",
    "input = \"The quick brown fox jumped over the lazy dog\"\n",
    "test(input)\n",
    "# expected output: ['s']\n",
    "\n",
    "# another test\n",
    "input = \"I am missing many letters\""
   ]
  },
  {
   "cell_type": "code",
   "execution_count": 0,
   "metadata": {},
   "outputs": [],
   "source": [
    "# run to read the next section\n",
    "ide.reader.view_section(6)"
   ]
  },
  {
   "cell_type": "code",
   "execution_count": 0,
   "metadata": {},
   "outputs": [],
   "source": [
    "def fetch_data():\n",
    "  # this is the data generator\n",
    "  # pick one\n",
    "  return \"Bob went to the market and bought an zaxaphone\"\n",
    "  # return \"The Quick Brown Fox Jumped Over The Lazy Dog\"\n",
    "\n",
    "def pipeline():\n",
    "  # use only function calls (no variables allowed)\n",
    "  # define the pipeline using a series of nested\n",
    "  # function calls\n",
    "  # this is NOT complete\n",
    "  return fetch_data()"
   ]
  },
  {
   "cell_type": "markdown",
   "metadata": {},
   "source": [
    "# Test and Submit"
   ]
  },
  {
   "cell_type": "code",
   "execution_count": 0,
   "metadata": {},
   "outputs": [],
   "source": [
    "# run to read the next section\n",
    "ide.reader.view_section(8)"
   ]
  },
  {
   "cell_type": "code",
   "execution_count": 0,
   "metadata": {},
   "outputs": [],
   "source": [
    "# print(ide.tester.test_notebook()) \n",
    "# print(ide.tester.test_notebook(verbose=True)) \n",
    "\n",
    "# once you are ready -- run this \n",
    "# ide.tester.download_solution()"
   ]
  }
 ],
 "metadata": {
  "colab": {
   "collapsed_sections": [],
   "name": "Data Science Pipeline",
   "provenance": []
  },
  "kernelspec": {
   "display_name": "Python 3",
   "name": "python3"
  },
  "language": "python",
  "story": {
   "auth_token": "8kVD2NWBUCXILH2ZXiorBge5nk1wh8XVgIScnJsy-xU=",
   "authorship_tag": "AB",
   "chapters": 10,
   "name": "Data Science Pipeline",
   "parser": {},
   "root": "https://raw.githubusercontent.com/habermanUIUC/CodeStoryLessons/main/lessons",
   "tag": "p4ds:ds:pipeline"
  }
 },
 "nbformat": 4,
 "nbformat_minor": 4
}
